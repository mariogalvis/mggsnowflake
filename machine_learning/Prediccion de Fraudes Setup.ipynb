{
 "metadata": {
  "kernelspec": {
   "display_name": "Streamlit Notebook",
   "name": "streamlit"
  },
  "lastEditStatus": {
   "notebookId": "ddqh4rckphzy7fd7qmpu",
   "authorId": "5175922815785",
   "authorName": "MGGSNOWFLAKE2",
   "authorEmail": "mggsnowflake2@gmail.com",
   "sessionId": "35cbf1cc-c209-40ca-a870-2744c7294e53",
   "lastEditTime": 1746848552246
  }
 },
 "nbformat_minor": 5,
 "nbformat": 4,
 "cells": [
  {
   "cell_type": "markdown",
   "id": "1a79b0ca-5934-402f-ab57-e19b080b3eb1",
   "metadata": {
    "collapsed": false,
    "name": "Introduction",
    "resultHeight": 23595
   },
   "source": "# Detección de Fraude en Tarjetas de Crédito: Aprovechando el Poder de **Machine Learning** en **Snowflake ML**\n\nEl fraude con tarjetas de crédito es una preocupación significativa en la era digital, donde se realizan miles de millones de transacciones diarias en todo el mundo. Detectar actividades fraudulentas de manera rápida y precisa es fundamental para proteger tanto a los consumidores como a las instituciones financieras. **Machine Learning** (**ML**) ha emergido como una herramienta poderosa en la lucha contra el fraude con tarjetas de crédito, ofreciendo métodos sofisticados para identificar actividades sospechosas en tiempo real.\n\n## El Desafío de la Detección de Fraude\nEl fraude con tarjetas de crédito puede tomar diversas formas, incluyendo transacciones no autorizadas, toma de control de cuentas y fraude con identidades sintéticas. Los sistemas tradicionales basados en reglas, que dependen de patrones y umbrales predefinidos, a menudo no son efectivos para detectar esquemas de fraude nuevos y en evolución. Estos sistemas también pueden generar un alto número de **false positives** (falsos positivos), lo que lleva a rechazos innecesarios de transacciones y a la insatisfacción de los clientes\n\n\n\n"
  },
  {
   "cell_type": "markdown",
   "id": "b4df2cd0-0c87-434f-88f2-0ac7bb1c65d0",
   "metadata": {
    "collapsed": false,
    "name": "Select_Packages",
    "resultHeight": 336
   },
   "source": "### **Importar Librerías**\n\nPara comenzar, haz clic en el botón **Start** (Iniciar). Una vez que diga **Active** (Activo), estarás listo para ejecutar el resto del Notebook. Todos los paquetes ya han sido pre-cargados. En la celda siguiente, importa los paquetes de Python necesarios y configura una sesión de **Snowflake**.\n\n### **Snowflake ML Feature Store**  \nUn **Python SDK** para definir, registrar, recuperar y gestionar **features**.\n\n**Entity** (Entidad): Las entidades son los objetos subyacentes con los que las **features** y **feature views** están asociadas. Encapsulan las claves de unión utilizadas para buscar las **features**.\n\n**FeatureView** (Vista de Feature): Una **feature view** es un grupo de **features** lógicamente relacionadas que se actual\n\n"
  },
  {
   "cell_type": "code",
   "execution_count": null,
   "id": "60a1cf24-eebb-4367-935b-af7b70180cbf",
   "metadata": {
    "collapsed": false,
    "language": "python",
    "name": "import_libs",
    "resultHeight": 0
   },
   "outputs": [],
   "source": [
    "# Import python packages\n",
    "import streamlit as st\n",
    "import pandas as pd\n",
    "from snowflake.snowpark import Window\n",
    "from snowflake.snowpark.functions import *\n",
    "\n",
    "from snowflake.snowpark.context import get_active_session\n",
    "session = get_active_session()\n",
    "session.query_tag = {\"origin\":\"sf_sit-is\", \n",
    "                     \"name\":\"credit_card_fraud\", \n",
    "                     \"version\":{\"major\":1, \"minor\":0},\n",
    "                     \"attributes\":{\"is_quickstart\":0, \"source\":\"notebook\"}}\n",
    "\n",
    "\n",
    "from snowflake.snowpark import functions as F\n",
    "from snowflake.ml.feature_store import (\n",
    "FeatureStore,\n",
    "FeatureView,\n",
    "Entity,\n",
    "CreationMode\n",
    ")\n",
    "from snowflake.ml.utils.connection_params import SnowflakeLoginOptions\n"
   ]
  },
  {
   "cell_type": "markdown",
   "id": "988d3224-458f-4955-b690-80b53a5a0215",
   "metadata": {
    "collapsed": false,
    "name": "db_objects_setup",
    "resultHeight": 41
   },
   "source": "Configurar los objetos de base de datos y los warehouses necesarios"
  },
  {
   "cell_type": "code",
   "execution_count": null,
   "id": "12212d31-5373-4391-972d-1bf8060a8f7b",
   "metadata": {
    "collapsed": false,
    "language": "python",
    "name": "create_db",
    "resultHeight": 112
   },
   "outputs": [],
   "source": [
    "session.sql(\"USE ROLE SYSADMIN\").collect()\n",
    "session.sql(\"CREATE DATABASE IF NOT EXISTS CC_FINS_DB\").collect()\n",
    "session.sql(\"USE database CC_FINS_DB\").collect()\n",
    "\n",
    "session.sql(\"CREATE SCHEMA IF NOT EXISTS ANALYTICS\").collect()\n",
    "session.sql(\"CREATE WAREHOUSE if not exists CC_FINS_WH\").collect()\n"
   ]
  },
  {
   "cell_type": "markdown",
   "id": "b64aad30-c427-4c56-ae72-96af0baa1d4b",
   "metadata": {
    "collapsed": false,
    "name": "set_variable",
    "resultHeight": 113
   },
   "source": "### Configurar variables\n\nEsto se hace principalmente para crear un rol separado para un consumidor y productor de **Feature Store**. Para simplificar, consideraremos el mismo rol, **SYSADMIN**, en este caso, tanto para el productor como para el consumidor.\n"
  },
  {
   "cell_type": "code",
   "execution_count": null,
   "id": "385be51b-161c-498f-b8ad-e71feeb11af1",
   "metadata": {
    "collapsed": false,
    "language": "sql",
    "name": "set_variables",
    "resultHeight": 112
   },
   "outputs": [],
   "source": [
    "USE ROLE ACCOUNTADMIN;\n",
    "SET FS_ROLE_PRODUCER = 'SYSADMIN';\n",
    "SET FS_ROLE_CONSUMER = 'SYSADMIN';\n",
    "SET FS_DATABASE = 'CC_FINS_DB';\n",
    "SET FS_SCHEMA = 'ANALYTICS';\n",
    "SET SCHEMA_FQN = CONCAT($FS_DATABASE, '.', $FS_SCHEMA);\n",
    "SET FS_WAREHOUSE = 'CC_FINS_WH';\n",
    "\n",
    "\n",
    "-- Create roles\n",
    "\n",
    "CREATE SCHEMA IF NOT EXISTS IDENTIFIER($FS_SCHEMA);\n",
    "\n"
   ]
  },
  {
   "cell_type": "markdown",
   "id": "f1d5a48f-d4ee-4dc7-8b33-7d48021e7f03",
   "metadata": {
    "collapsed": false,
    "name": "Feature_Store_definition",
    "resultHeight": 67
   },
   "source": "Crea un nuevo **Feature Store** especificando la base de datos y el esquema donde se almacenarán las **features**. Ten en cuenta que también configuramos un **default_warehouse** que se utilizará con el **Feature Store**.\n"
  },
  {
   "cell_type": "code",
   "execution_count": null,
   "id": "7703c60e-00bb-422d-a1ed-d958f91a83b7",
   "metadata": {
    "collapsed": false,
    "language": "python",
    "name": "FS_init",
    "resultHeight": 0
   },
   "outputs": [],
   "source": [
    "session.sql('USE ROLE SYSADMIN').collect()\n",
    "session.sql('USE WAREHOUSE CC_FINS_WH').collect()\n",
    "session.sql('USE SCHEMA ANALYTICS').collect()\n",
    "\n",
    "FS1=FeatureStore(\n",
    "session=session,\n",
    "database=\"CC_FINS_DB\",\n",
    "    name=\"ANALYTICS\",\n",
    "    default_warehouse=\"CC_FINS_WH\",\n",
    "    creation_mode=CreationMode.CREATE_IF_NOT_EXIST)"
   ]
  },
  {
   "cell_type": "code",
   "execution_count": null,
   "id": "bbd90f43-d633-41b3-b159-ac8ff91856a4",
   "metadata": {
    "collapsed": false,
    "language": "python",
    "name": "set_context",
    "resultHeight": 112
   },
   "outputs": [],
   "source": [
    "session.sql(\"USE ROLE SYSADMIN\").collect()\n",
    "session.sql(\"USE DATABASE CC_FINS_DB\").collect()\n",
    "session.sql(\"USE SCHEMA ANALYTICS\").collect()"
   ]
  },
  {
   "cell_type": "markdown",
   "id": "acfed50b-49e1-4ca1-8d66-8c73d33d6c9f",
   "metadata": {
    "collapsed": false,
    "name": "Print_schema",
    "resultHeight": 41
   },
   "source": "Imprimir el esquema"
  },
  {
   "cell_type": "code",
   "execution_count": null,
   "id": "16f4e2ae-a48a-4883-b9c3-f6cfe90fc982",
   "metadata": {
    "collapsed": false,
    "language": "python",
    "name": "print_schema",
    "resultHeight": 150
   },
   "outputs": [],
   "source": [
    "# Current Environment Details\n",
    "print('Connection Established with the following parameters:')\n",
    "print('User      : {}'.format(session.get_current_user()))\n",
    "print('Role      : {}'.format(session.get_current_role()))\n",
    "print('Database  : {}'.format(session.get_current_database()))\n",
    "print('Schema    : {}'.format(session.get_current_schema()))\n",
    "print('Warehouse : {}'.format(session.get_current_warehouse()))"
   ]
  },
  {
   "cell_type": "markdown",
   "id": "c9d5d1ea-facd-4f51-9907-24df53dff5b7",
   "metadata": {
    "collapsed": false,
    "name": "load_data",
    "resultHeight": 177
   },
   "source": "### La siguiente celda realiza varias acciones:\n\n1. Crea un formato de archivo denominado **CSVFORMAT**.\n2. Crea un **stage** denominado **CREDITCARD_TRANSACTIONS**.\n3. El **stage** apunta al almacenamiento externo donde se encuentra el conjunto de datos de transacciones de tarjetas de crédito.\n4. Lista el contenido del **stage** **CREDITCARD_TRANSACTIONS**.\n"
  },
  {
   "cell_type": "code",
   "execution_count": null,
   "id": "8b1c63b0-21b7-4362-b57f-353d519d6e76",
   "metadata": {
    "collapsed": false,
    "language": "sql",
    "name": "read_from_Stage",
    "resultHeight": 112
   },
   "outputs": [],
   "source": [
    "-- Create csv format\n",
    "\n",
    "CREATE FILE FORMAT IF NOT EXISTS CSVFORMAT \n",
    "    SKIP_HEADER = 1\n",
    "    TYPE = 'CSV';\n",
    "\n",
    "-- Create a stage with the csv format to stage the credit card transactions\n",
    "CREATE STAGE IF NOT EXISTS CREDITCARD_TRANSACTIONS\n",
    "    FILE_FORMAT =  CSVFORMAT \n",
    "    URL = 's3://sfquickstarts/sfguide_credit_card_fraud_detection_using_snowflakeml/fraud_detection_dataset.csv';\n",
    "    \n",
    "    \n",
    "--Upload the file manually in case of internal stage or in case of external stage point to file storage\n",
    "-- Inspect content of stage\n",
    "LS @CREDITCARD_TRANSACTIONS;\n"
   ]
  },
  {
   "cell_type": "markdown",
   "id": "fef6d14e-e10c-478f-9419-5fa9cc0480a3",
   "metadata": {
    "collapsed": false,
    "name": "read_data",
    "resultHeight": 67
   },
   "source": "Leer el archivo CSV desde el **stage** de Snowflake, crear un **DataFrame** a partir de él y luego escribir este **DataFrame** en una tabla de Snowflake.\n"
  },
  {
   "cell_type": "code",
   "execution_count": null,
   "id": "8d50cbf4-0c8d-4950-86cb-114990437ac9",
   "metadata": {
    "collapsed": false,
    "language": "python",
    "name": "read_Transactions",
    "resultHeight": 351
   },
   "outputs": [],
   "source": [
    "# Create a Snowpark DataFrame that is configured to load data from the CSV file\n",
    "# We can now infer schema from CSV files.\n",
    "transactions_df = session.read.options({\"field_delimiter\": \",\",\n",
    "                                    \"field_optionally_enclosed_by\": '\"',\n",
    "                                    \"infer_schema\": True,\n",
    "                                    \"parse_header\": True}).csv(\"@CREDITCARD_TRANSACTIONS\")\n",
    "\n",
    "transactions_df.write.mode('overwrite').save_as_table('CREDITCARD_TRANSACTIONS')\n",
    "\n",
    "transactions_df.show()\n"
   ]
  },
  {
   "cell_type": "code",
   "id": "64173d3a-f883-449c-a622-dde0be0c1919",
   "metadata": {
    "language": "sql",
    "name": "cell1",
    "resultHeight": 112
   },
   "outputs": [],
   "source": "update CREDITCARD_TRANSACTIONS\nset merchant = case \n                    when merchant= 'newegg.com' then 'mercadolibre.com'\n                    when merchant= 'homedepot.com' then 'homecenter.com'\n                    when merchant= 'etsy.com' then 'temu.com'\n                    when merchant= 'lowes.com' then 'airbnb.com'\n                    when merchant= 'walmart.com' then 'olimpica.com'\n                    when merchant= 'bestbuy.com' then 'falabella.com'\n                    when merchant= 'globalexp.com' then 'exito.com'\n                    else merchant\n                end;\n\nupdate CREDITCARD_TRANSACTIONS\nset location = case \n                    when location= 'Moscow' then 'Bogota'\n                    when location= 'Atlanta' then 'Medellin'\n                    when location= 'Kansas City' then 'Cali'\n                    when location= 'Los Angeles' then 'Cartagena'\n                    when location= 'Tucson' then 'Barranquilla'\n                    when location= 'Chicago' then 'Santa Marta'\n                    when location= 'Detroit' then 'Neiva'\n                    when location= 'Las Vegas' then 'Villavicencio'\n                    when location= 'Fresno' then 'Ibague'\n                    when location= 'Washington DC' then 'Yopal'\n                    when location= 'Miami' then 'San Andres'\n                    when location= 'Oklahoma City' then 'Pasto'\n                    when location= 'Albuquerque' then 'Manizales'\n                    when location= 'Beijing' then 'Pereira'\n                    when location= 'Sacramento' then 'Tunja'\n                    when location= 'Seattle' then 'Bucaramanga'\n                    when location= 'San Francisco' then 'Popayan'\n                    when location= 'Boston' then 'Valledupar'\n                    when location= 'San Diego' then 'Rioacha'\n                    when location= 'El Paso' then 'Cucuta'\n                    when location= 'Nashville' then 'Armenia'\n                    when location= 'Omaha' then 'Sincelejo'\n                    when location= 'Jacksonville' then 'Envigado'\n                    when location= 'Denver' then 'Bello'\n                    when location= 'Milwaukee' then 'Chia'\n                    when location= 'Raleigh' then 'Cota'\n                    when location= 'Virginia Beach' then 'Acacias'\n                    when location= 'San Antonio' then 'Florencia'\n                    when location= 'Houston' then 'Arauca'\n                    when location= 'Phoenix' then 'Leticia'\n                    when location= 'Indianapolis' then 'Doradal'\n                    when location= 'Austin' then 'Soledad'\n                    when location= 'Columbus' then 'Duitama'\n                    when location= 'Portland' then 'Pto Carreno'\n                    when location= 'Dallas' then 'Quibdo'\n                    when location= 'Philadelphia' then 'Mocoa'\n                    when location= 'New York' then 'Jamundi'\n                    when location= 'Mesa' then 'Buenaventura'\n                    else location\n                end;\n\n\nupdate CREDITCARD_TRANSACTIONS\nset latitude = case\n                    when location= 'Bogota' then 4.7110\n                    when location = 'Medellin' then 6.2442\n                    when location = 'Cali' then 3.4516\n                    when location = 'Cartagena' then 10.3910\n                    when location = 'Barranquilla' then 10.9630\n                    when location = 'Santa Marta' then 11.2408\n                    when location = 'Neiva' then 2.9386\n                    when location = 'Villavicencio' then 4.1403\n                    when location = 'Ibague' then 4.4381\n                    when location = 'Yopal' then 5.3343\n                    when location = 'San Andres' then 12.5848\n                    when location = 'Pasto' then 1.2135\n                    when location = 'Manizales' then 5.0689\n                    when location = 'Pereira' then 4.8130\n                    when location = 'Tunja' then 5.5346\n                    when location = 'Bucaramanga' then 7.1195\n                    when location = 'Popayan' then 2.4379\n                    when location = 'Valledupar' then 10.4637\n                    when location = 'Rioacha' then 11.5375\n                    when location = 'Cucuta' then 7.8930\n                    when location = 'Armenia' then 4.5339\n                    when location = 'Sincelejo' then 9.3136\n                    when location = 'Envigado' then 6.1710\n                    when location = 'Bello' then 6.3583\n                    when location = 'Chia' then 4.8786\n                    when location = 'Cota' then 4.7372\n                    when location = 'Acacias' then 3.9886\n                    when location = 'Florencia' then 1.6115\n                    when location = 'Arauca' then 7.0873\n                    when location = 'Leticia' then -4.2045\n                    when location = 'Doradal' then 6.5297\n                    when location = 'Soledad' then 10.8393\n                    when location = 'Duitama' then 5.8564\n                    when location = 'Pto Carreno' then 6.1880\n                    when location = 'Quibdo' then 5.6947\n                    when location = 'Mocoa' then 1.1536\n                    when location = 'Jamundi' then 3.3069\n                    when location = 'Buenaventura' then 3.8837\n                    else latitude\n                end;\n\nupdate CREDITCARD_TRANSACTIONS\nset             \nlongitude = case\n                when location = 'Bopgota' then -74.0721\n                when location = 'Medellin' then -75.5736\n                when location = 'Cali' then -76.5320\n                when location = 'Cartagena' then -75.4792\n                when location = 'Barranquilla' then -74.7967\n                when location = 'Santa Marta' then -74.2004\n                when location = 'Neiva' then -75.2803\n                when location = 'Villavicencio' then -73.6328\n                when location = 'Ibague' then -75.2000\n                when location = 'Yopal' then -72.3921\n                when location = 'San Andres' then -81.7111\n                when location = 'Pasto' then -77.2811\n                when location = 'Manizales' then -75.5183\n                when location = 'Pereira' then -75.6962\n                when location = 'Tunja' then -73.3674\n                when location = 'Bucaramanga' then -73.1198\n                when location = 'Popayan' then -77.2805\n                when location = 'Valledupar' then -73.2484\n                when location = 'Rioacha' then -71.9191\n                when location = 'Cucuta' then -72.5078\n                when location = 'Armenia' then -75.6817\n                when location = 'Sincelejo' then -75.3952\n                when location = 'Envigado' then -75.5805\n                when location = 'Bello' then -75.5637\n                when location = 'Chia' then -74.0312\n                when location = 'Cota' then -74.2359\n                when location = 'Acacias' then -73.8881\n                when location = 'Florencia' then -75.6111\n                when location = 'Arauca' then -70.7600\n                when location = 'Leticia' then -69.9437\n                when location = 'Doradal' then -74.5773\n                when location = 'Soledad' then -74.7942\n                when location = 'Duitama' then -73.0202\n                when location = 'Pto Carreno' then -67.3185\n                when location = 'Quibdo' then -76.6473\n                when location = 'Mocoa' then -76.6489\n                when location = 'Jamundi' then -76.6394\n                when location = 'Buenaventura' then -77.0792\n                else longitude\n                end;",
   "execution_count": null
  },
  {
   "cell_type": "markdown",
   "id": "03af3b6f-27bd-4702-ba7d-50c2ac825a4f",
   "metadata": {
    "collapsed": false,
    "name": "Feature_Engineering",
    "resultHeight": 108
   },
   "source": "Generar diversas **features** relacionadas con los patrones de gasto del usuario\n\nEstas **features** incluyen el gasto semanal, mensual y anual, así como estadísticas transaccionales que se pueden utilizar para análisis posteriores o tareas de **machine learning**, como la detección de fraude.\n"
  },
  {
   "cell_type": "code",
   "execution_count": null,
   "id": "2c3f6409-ae3c-4cbe-b260-1d3812c49683",
   "metadata": {
    "codeCollapsed": false,
    "collapsed": false,
    "language": "sql",
    "name": "Generate_Customer_Features",
    "resultHeight": 439
   },
   "outputs": [],
   "source": [
    "WITH \n",
    "weekly_spending AS (\n",
    "    SELECT\n",
    "        USER_ID,\n",
    "        DATE_TRUNC('week',TO_TIMESTAMP(TRANSACTION_DATE,'MM/DD/YY HH24:MI')) AS week,\n",
    "        SUM(TRANSACTION_AMOUNT) AS total_spent_wk\n",
    "    FROM\n",
    "        CREDITCARD_TRANSACTIONS\n",
    "    GROUP BY\n",
    "        USER_ID,\n",
    "        DATE_TRUNC('week',TO_TIMESTAMP(TRANSACTION_DATE,'MM/DD/YY HH24:MI'))\n",
    "),\n",
    "mean_weekly_spending AS (\n",
    "    SELECT\n",
    "        USER_ID,\n",
    "        AVG(total_spent_wk) AS mean_weekly_spent\n",
    "    FROM\n",
    "        weekly_spending\n",
    "    GROUP BY\n",
    "        USER_ID\n",
    "),\n",
    "monthly_spending AS (\n",
    "    SELECT\n",
    "        USER_ID,\n",
    "        DATE_TRUNC('month',TO_TIMESTAMP(TRANSACTION_DATE,'MM/DD/YY HH24:MI')) AS month,\n",
    "        SUM(TRANSACTION_AMOUNT) AS total_spent\n",
    "    FROM\n",
    "        CREDITCARD_TRANSACTIONS\n",
    "    GROUP BY\n",
    "        USER_ID,\n",
    "        DATE_TRUNC('month',TO_TIMESTAMP(TRANSACTION_DATE,'MM/DD/YY HH24:MI'))\n",
    "),\n",
    "mean_monthly_spending AS (\n",
    "    SELECT\n",
    "        USER_ID,\n",
    "        AVG(total_spent) AS mean_monthly_spent\n",
    "    FROM\n",
    "        monthly_spending\n",
    "    GROUP BY\n",
    "        USER_ID\n",
    "),\n",
    "yearly_spending AS (\n",
    "    SELECT\n",
    "        USER_ID,\n",
    "        DATE_TRUNC('year',TO_TIMESTAMP(TRANSACTION_DATE,'MM/DD/YY HH24:MI')) AS month,\n",
    "        SUM(TRANSACTION_AMOUNT) AS total_spent_yr\n",
    "    FROM\n",
    "        CREDITCARD_TRANSACTIONS\n",
    "    GROUP BY\n",
    "        USER_ID,\n",
    "        DATE_TRUNC('year',TO_TIMESTAMP(TRANSACTION_DATE,'MM/DD/YY HH24:MI'))\n",
    "),\n",
    "mean_yearly_spending AS (\n",
    "    SELECT\n",
    "        USER_ID,\n",
    "        AVG(total_spent_yr) AS mean_yearly_spent\n",
    "    FROM\n",
    "        yearly_spending\n",
    "    GROUP BY\n",
    "        USER_ID\n",
    "),\n",
    "features AS (\n",
    "    SELECT\n",
    "        USER_ID,\n",
    "        COUNT(TRANSACTION_ID) AS total_transactions,\n",
    "        AVG(TRANSACTION_AMOUNT) AS avg_per_transaction_amount,\n",
    "        STDDEV(TRANSACTION_AMOUNT) AS stddev_transaction_amount,\n",
    "        COUNT(DISTINCT MERCHANT) AS num_unique_merchants,\n",
    "        round(COUNT(TRANSACTION_ID) / COUNT(DISTINCT DATE_TRUNC('month',TO_TIMESTAMP(TRANSACTION_DATE,'MM/DD/YY HH24:MI')),0)) AS transactions_per_month,\n",
    "        COUNT(CASE WHEN IS_FRAUD = 1 THEN 1 END) * 1.0 / COUNT(TRANSACTION_ID) AS fraud_rate\n",
    "    FROM\n",
    "        CREDITCARD_TRANSACTIONS\n",
    "    GROUP BY\n",
    "        USER_ID\n",
    ")\n",
    "SELECT\n",
    "    DISTINCT cc.USER_ID,total_transactions,avg_per_transaction_amount,stddev_transaction_amount,num_unique_merchants,\n",
    "    ROUND(mws.mean_weekly_spent,2) as mean_weekly_spent,\n",
    "    ROUND(mms.mean_monthly_spent,2) as mean_monthly_spent,\n",
    "    ROUND(mys.mean_yearly_spent,2) as mean_yearly_spent\n",
    "FROM\n",
    "    CREDITCARD_TRANSACTIONS cc\n",
    "    JOIN features fs ON cc.USER_ID = fs.User_ID\n",
    "    JOIN mean_monthly_spending mms ON cc.USER_ID = mms.User_ID\n",
    "    JOIN mean_yearly_spending mys ON cc.USER_ID = mys.User_ID\n",
    "    JOIN mean_weekly_spending mws ON cc.USER_ID = mws.User_ID;\n"
   ]
  },
  {
   "cell_type": "markdown",
   "id": "39c20ad0-fc16-4301-99e4-9e5f78a93c70",
   "metadata": {
    "collapsed": false,
    "name": "Generatedf",
    "resultHeight": 41
   },
   "source": "Generar un **DataFrame** de **features** de clientes y guardarlo como una tabla en Snowflake\n"
  },
  {
   "cell_type": "code",
   "execution_count": null,
   "id": "dba49059-a276-4f07-807d-cda044952fa4",
   "metadata": {
    "collapsed": false,
    "language": "python",
    "name": "cust_features",
    "resultHeight": 0
   },
   "outputs": [],
   "source": [
    "cust_spdf=Generate_Customer_Features.to_df()\n",
    "\n",
    "cust_spdf.write.mode('overwrite').save_as_table('customer_features')\n",
    "cust_sdf=session.sql(\"select * from customer_features\")\n"
   ]
  },
  {
   "cell_type": "code",
   "execution_count": null,
   "id": "7a144ed6-9f66-4727-a9a2-13d2744d64ee",
   "metadata": {
    "collapsed": false,
    "language": "python",
    "name": "cust_spdf",
    "resultHeight": 335
   },
   "outputs": [],
   "source": [
    "cust_sdf.show()"
   ]
  },
  {
   "cell_type": "markdown",
   "id": "534eaac0-4847-4d26-977d-803ab401b564",
   "metadata": {
    "collapsed": false,
    "name": "Generate_transaction_metrics",
    "resultHeight": 134
   },
   "source": "Generar métricas comportamentales acumulativas para los usuarios basadas en sus datos de transacciones, como clics acumulativos y logins acumulativos por hora.\n\nEsto implica el uso de **window functions** (funciones de ventana) y **joins** para combinar y transformar los datos de la tabla **CREDITCARD_TRANSACTIONS**.\n"
  },
  {
   "cell_type": "code",
   "execution_count": null,
   "id": "73b2cbc3-0e45-4988-a912-99d18aa3b415",
   "metadata": {
    "collapsed": false,
    "language": "sql",
    "name": "Generate_Transaction_Features",
    "resultHeight": 511
   },
   "outputs": [],
   "source": [
    "WITH cumulative_behavior AS (\n",
    "    SELECT\n",
    "        USER_ID,\n",
    "        SESSION_ID,\n",
    "        TRANSACTION_DATE,\n",
    "        SUM(CLICKS) OVER (PARTITION BY USER_ID ORDER BY TRANSACTION_DATE RANGE BETWEEN UNBOUNDED PRECEDING AND CURRENT ROW) AS cumulative_clicks,\n",
    "        SUM(LOGIN_PER_HOUR) OVER (PARTITION BY USER_ID ORDER BY TRANSACTION_DATE RANGE BETWEEN UNBOUNDED PRECEDING AND CURRENT ROW) AS cumulative_logins_per_hour\n",
    "    FROM CREDITCARD_TRANSACTIONS\n",
    "),\n",
    "unique_transactions AS (\n",
    "    SELECT DISTINCT\n",
    "        USER_ID,\n",
    "        SESSION_ID,\n",
    "        TRANSACTION_DATE,\n",
    "        TRANSACTION_ID,\n",
    "        TIME_ELAPSED,\n",
    "        CLICKS,\n",
    "        LOCATION,\n",
    "        LATITUDE,\n",
    "        LONGITUDE\n",
    "    FROM CREDITCARD_TRANSACTIONS\n",
    ")\n",
    "SELECT\n",
    "    ut.SESSION_ID,\n",
    "    ut.TRANSACTION_DATE,\n",
    "    ut.TIME_ELAPSED,\n",
    "    ut.CLICKS,\n",
    "    ut.TRANSACTION_ID,\n",
    "    ut.LOCATION,\n",
    "    ut.LATITUDE,\n",
    "    ut.LONGITUDE,\n",
    "    cb.cumulative_clicks,\n",
    "    cb.cumulative_logins_per_hour\n",
    "FROM\n",
    "    unique_transactions ut\n",
    "    JOIN cumulative_behavior cb ON ut.USER_ID = cb.USER_ID \n",
    "    AND ut.SESSION_ID = cb.SESSION_ID\n",
    "    AND ut.TRANSACTION_DATE = cb.TRANSACTION_DATE\n",
    "ORDER BY\n",
    "    ut.TRANSACTION_ID;\n"
   ]
  },
  {
   "cell_type": "markdown",
   "id": "22cad101-5845-401e-8914-6a0b1cbd057c",
   "metadata": {
    "collapsed": false,
    "name": "generate_transfeatures",
    "resultHeight": 41
   },
   "source": "Generar un **DataFrame** de **features** de transacciones y guardarlo como una tabla en Snowflake\n"
  },
  {
   "cell_type": "code",
   "execution_count": null,
   "id": "ac4f62d1-d0ef-41d5-b1ca-8b9fce7cb4d5",
   "metadata": {
    "collapsed": false,
    "language": "python",
    "name": "transdf_tospdf",
    "resultHeight": 0
   },
   "outputs": [],
   "source": [
    "trans_df=Generate_Transaction_Features.to_df()\n",
    "\n",
    "trans_df.write.mode('overwrite').save_as_table('transaction_features')\n",
    "trans_sdf=session.sql(\"select * from transaction_features\")"
   ]
  },
  {
   "cell_type": "code",
   "execution_count": null,
   "id": "33db7e54-2de0-4053-82ec-a764450a2bf5",
   "metadata": {
    "collapsed": false,
    "language": "python",
    "name": "transdf_show",
    "resultHeight": 335
   },
   "outputs": [],
   "source": [
    "trans_df.show()"
   ]
  },
  {
   "cell_type": "markdown",
   "id": "454a9bc1-9c42-4f47-b7b0-df5a0423001e",
   "metadata": {
    "collapsed": false,
    "name": "customertrans_entity",
    "resultHeight": 134
   },
   "source": "Crear Entities\n\nUna **entity** (entidad) es una abstracción sobre un conjunto de claves primarias utilizadas para buscar datos de **features**. Una **entity** representa un \"objeto\" del mundo real que tiene datos asociados. La celda a continuación registra una **entity** para **Customer** (Cliente) y **Transaction** (Transacción) en el **Feature Store**.\n"
  },
  {
   "cell_type": "code",
   "execution_count": null,
   "id": "3fbe1758-4c9b-4ff2-99b3-b8be6a67afe3",
   "metadata": {
    "collapsed": false,
    "language": "python",
    "name": "Feature_Entity",
    "resultHeight": 58
   },
   "outputs": [],
   "source": [
    "\n",
    "# Snowflake Feature Store requires an \"entity\" with \"join_keys\" be registered\n",
    "customer_entity = Entity(name=\"UserId\", join_keys=[\"USER_ID\"])\n",
    "FS1.register_entity(customer_entity)\n",
    "\n",
    "transaction_entity = Entity(name=\"transId\", join_keys=[\"TRANSACTION_ID\"])\n",
    "FS1.register_entity(transaction_entity)\n"
   ]
  },
  {
   "cell_type": "markdown",
   "id": "39d31c4a-2377-4cd2-a746-cc8de488b616",
   "metadata": {
    "collapsed": false,
    "name": "Feature_Entities_List",
    "resultHeight": 41
   },
   "source": " Listar las **Feature entities**"
  },
  {
   "cell_type": "code",
   "execution_count": null,
   "id": "c0e9a1c2-d663-47f1-bf1d-16a96bc2b588",
   "metadata": {
    "collapsed": false,
    "language": "python",
    "name": "list_entites",
    "resultHeight": 150
   },
   "outputs": [],
   "source": [
    "FS1.list_entities().show(15)"
   ]
  },
  {
   "cell_type": "markdown",
   "id": "7fe55df6-5512-4333-8b67-61c916d093d3",
   "metadata": {
    "collapsed": false,
    "name": "Feature_Views",
    "resultHeight": 192
   },
   "source": "# Usando **Feature Views**\n\nUn **Feature View** es un grupo de **features** lógicamente relacionadas que se actualizan en el mismo horario. El constructor de **FeatureView** acepta un **Snowpark DataFrame** que contiene la lógica de generación de **features**. El **DataFrame** proporcionado debe contener las columnas **join_keys** especificadas en las **entities** asociadas con el **feature view**. En este ejemplo, estamos usando datos de series tempor\n\n"
  },
  {
   "cell_type": "code",
   "execution_count": null,
   "id": "3a146311-376d-4df4-9cff-eb9e019eda62",
   "metadata": {
    "collapsed": false,
    "language": "python",
    "name": "Cust_FeaturesView",
    "resultHeight": 0
   },
   "outputs": [],
   "source": "managed_fv = FeatureView(\n    name=\"Customer_Features\",\n    entities = [customer_entity],\n    feature_df=cust_sdf,\n    \n)\nregistered_fv = FS1.register_feature_view(\n    feature_view=managed_fv,\n    version=\"V1\"\n)"
  },
  {
   "cell_type": "code",
   "execution_count": null,
   "id": "a9ed39d5-7eb7-4c9a-adba-afeda35717ba",
   "metadata": {
    "collapsed": false,
    "language": "python",
    "name": "Trans_FeatureView",
    "resultHeight": 0
   },
   "outputs": [],
   "source": "managed_fv = FeatureView(\n    name=\"Trans_Features\",\n    entities = [transaction_entity],\n    feature_df=trans_sdf,\n    \n    \n)\n\nregistered_fv = FS1.register_feature_view(\n    feature_view=managed_fv,\n    version=\"V1\"\n)"
  },
  {
   "cell_type": "markdown",
   "id": "7ccbe701-f52c-4c2d-b4b0-ee8dc9320009",
   "metadata": {
    "name": "endofnb",
    "resultHeight": 92,
    "collapsed": false
   },
   "source": "Esto completa la configuración de los objetos de la base de datos y el flujo de trabajo del **Feature Store Producer**. Los datos y las **features** que se han generado están disponibles para el **consumer** con los privilegios apropiados. ¡Es hora de continuar al siguiente notebook!\n"
  }
 ]
}