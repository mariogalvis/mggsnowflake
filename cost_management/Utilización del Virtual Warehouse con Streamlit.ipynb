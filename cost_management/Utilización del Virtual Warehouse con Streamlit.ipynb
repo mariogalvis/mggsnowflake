{
 "metadata": {
  "kernelspec": {
   "display_name": "Streamlit Notebook",
   "name": "streamlit"
  }
 },
 "nbformat_minor": 5,
 "nbformat": 4,
 "cells": [
  {
   "cell_type": "markdown",
   "id": "cc4fb15e-f9db-44eb-9f60-1b9589b755cb",
   "metadata": {
    "name": "md_title",
    "collapsed": false
   },
   "source": "# Analyze Warehouse Utilization in Snowflake Notebooks with Streamlit\n\nA notebook that generates a heatmap of warehouse usage patterns to identify peak hours that can help with cost optimization.\n\nHere's what we're implementing to investigate the tables:\n1. Retrieve warehouse utilization data\n2. Convert table to a DataFrame\n3. Create an interactive slider widget\n4. Create a Heatmap for visualizing warehouse usage patterns"
  },
  {
   "cell_type": "markdown",
   "id": "42a7b143-0779-4706-affc-c214213f55c5",
   "metadata": {
    "name": "md_retrieve_data",
    "collapsed": false
   },
   "source": "## 1. Retrieve warehouse utilization data\n\nFirstly, we'll write a SQL query to retrieve warehouse utilization data."
  },
  {
   "cell_type": "code",
   "id": "e17f14a5-ea50-4a1d-bc15-c64a6447d0a8",
   "metadata": {
    "language": "sql",
    "name": "sql_warehouse_data",
    "codeCollapsed": false,
    "collapsed": false
   },
   "outputs": [],
   "source": "SELECT \n    DATE(start_time) AS usage_date,\n    HOUR(start_time) AS hour_of_day,\n    warehouse_name,\n    avg_running,\n    avg_queued_load,\n    start_time,\n    end_time\nFROM snowflake.account_usage.warehouse_load_history\nWHERE start_time >= DATEADD(month, -1, CURRENT_TIMESTAMP())\nORDER BY warehouse_name, start_time;",
   "execution_count": null
  },
  {
   "cell_type": "markdown",
   "id": "b2ef4485-566e-4b11-bb5a-8085c9bc0c97",
   "metadata": {
    "name": "md_dataframe",
    "collapsed": false
   },
   "source": "## 2. Convert table to a DataFrame\n\nNext, we'll convert the table to a Pandas DataFrame."
  },
  {
   "cell_type": "code",
   "id": "014ceccb-9447-43c9-ad8f-a91a80722de1",
   "metadata": {
    "language": "python",
    "name": "py_dataframe",
    "collapsed": false,
    "codeCollapsed": false
   },
   "outputs": [],
   "source": "sql_warehouse_data.to_pandas()",
   "execution_count": null
  },
  {
   "cell_type": "markdown",
   "id": "d4027f90-ae2a-41e7-8a09-5c088b3ab3bf",
   "metadata": {
    "name": "md_",
    "collapsed": false
   },
   "source": "## 3. Create an Interactive slider widget\n\nLet's create an interactive slider using Streamlit. This would allow users to select the number of days to analyze, which would filter the DataFrame. \n\nFinally, we'll calculate the total warehouse load (`TOTAL_LOAD`) and format the hour display (`HOUR_DISPLAY`) for each record."
  },
  {
   "cell_type": "code",
   "id": "137f2fc5-c5df-4dd4-b223-0e0690b6f8a6",
   "metadata": {
    "language": "python",
    "name": "py_data_preparation",
    "codeCollapsed": false,
    "collapsed": false
   },
   "outputs": [],
   "source": "import pandas as pd\nimport streamlit as st\n\n# Get data\ndf = py_dataframe.copy()\n\n# Create date filter slider\ndays = st.slider('Select number of days to analyze', \n                 min_value=10, \n                 max_value=90, \n                 value=30, \n                 step=10)\n\n# Filter data based on selected days and create a copy\nlatest_date = pd.to_datetime(df['USAGE_DATE']).max()\ncutoff_date = latest_date - pd.Timedelta(days=days)\nfiltered_df = df[pd.to_datetime(df['USAGE_DATE']) > cutoff_date].copy()\n\n# Prepare data and create heatmap\n#filtered_df.loc[:, 'TOTAL_LOAD'] = filtered_df['AVG_RUNNING'] + filtered_df['AVG_QUEUED_LOAD']\n#filtered_df.loc[:, 'HOUR_DISPLAY'] = filtered_df['HOUR_OF_DAY'].apply(lambda x: f\"{x:02d}:00\")\nfiltered_df['TOTAL_LOAD'] = filtered_df['AVG_RUNNING'] + filtered_df['AVG_QUEUED_LOAD']\nfiltered_df['HOUR_DISPLAY'] = filtered_df['HOUR_OF_DAY'].apply(lambda x: f\"{x:02d}:00\")\n\nst.warning(f\"You've selected {days} days to analyze!\")\nfiltered_df",
   "execution_count": null
  },
  {
   "cell_type": "markdown",
   "id": "84929a0b-de27-4655-93dc-fd15bac9f3e5",
   "metadata": {
    "name": "md_heatmap",
    "collapsed": false
   },
   "source": "## 4. Create a Heatmap for visualizing warehouse usage patterns\n\nFinally, we're create a heatmap using Altair. The heatmap shows the warehouse usage pattern across different hours of the day. Color intensity represents the total load and interactive tooltips showing detailed metrics for each cell."
  },
  {
   "cell_type": "code",
   "id": "f84a45e7-288f-400c-8a99-badb37a13707",
   "metadata": {
    "language": "python",
    "name": "py_heatmap",
    "codeCollapsed": false,
    "collapsed": false
   },
   "outputs": [],
   "source": "import altair as alt\nimport streamlit as st\n\nchart = alt.Chart(filtered_df).mark_rect(\n    stroke='black',\n    strokeWidth=1\n).encode(\n    x=alt.X('HOUR_DISPLAY:O', \n            title='Hour of Day',\n            axis=alt.Axis(\n                labels=True,\n                tickMinStep=1,\n                labelOverlap=False\n            )),\n    y=alt.Y('WAREHOUSE_NAME:N', \n            title='Warehouse Name',\n            axis=alt.Axis(\n                labels=True,\n                labelLimit=200,\n                tickMinStep=1,\n                labelOverlap=False,\n                labelPadding=10\n            )),\n    color=alt.Color('TOTAL_LOAD:Q', title='Total Load'),\n    tooltip=['WAREHOUSE_NAME', 'HOUR_DISPLAY', 'TOTAL_LOAD', \n            'AVG_RUNNING', 'AVG_QUEUED_LOAD']\n).properties(\n    #width=700,\n    #height=450,\n    title=f'Warehouse Usage Patterns ({days} Days)'\n).configure_view(\n    stroke=None,\n    continuousHeight=400\n).configure_axis(\n    labelFontSize=10\n)\n\n# Display the chart\nst.altair_chart(chart, use_container_width=True)",
   "execution_count": null
  },
  {
   "cell_type": "markdown",
   "id": "f6e54924-57e2-4dfb-8bf1-bad9b7fb635d",
   "metadata": {
    "name": "md_resources",
    "collapsed": false
   },
   "source": "## Want to learn more?\n\n- Snowflake Docs on [Account Usage](https://docs.snowflake.com/en/sql-reference/account-usage) and [WAREHOUSE_LOAD_HISTORY view](https://docs.snowflake.com/en/sql-reference/account-usage/warehouse_load_history)\n- More about [Snowflake Notebooks](https://docs.snowflake.com/en/user-guide/ui-snowsight/notebooks-use-with-snowflake)\n- For more inspiration on how to use Streamlit widgets in Notebooks, check out [Streamlit Docs](https://docs.streamlit.io/) and this list of what is currently supported inside [Snowflake Notebooks](https://docs.snowflake.com/en/user-guide/ui-snowsight/notebooks-use-with-snowflake#label-notebooks-streamlit-support)\n- Check out the [Altair User Guide](https://altair-viz.github.io/user_guide/data.html) for further information on customizing Altair charts"
  }
 ]
}
