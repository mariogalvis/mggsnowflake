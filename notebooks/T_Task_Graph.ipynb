{
 "metadata": {
  "kernelspec": {
   "display_name": "Streamlit Notebook",
   "name": "streamlit"
  },
  "lastEditStatus": {
   "notebookId": "svove7gwjho7oqd2amzc",
   "authorId": "1206008433760",
   "authorName": "MGGSNOWFLAKE",
   "authorEmail": "mggsnowflake@gmail.com",
   "sessionId": "81be3622-2765-4f9d-82f4-908f1a983a92",
   "lastEditTime": 1742592333757
  }
 },
 "nbformat_minor": 5,
 "nbformat": 4,
 "cells": [
  {
   "cell_type": "code",
   "id": "db2cc145-4999-4951-9f15-17314e687cda",
   "metadata": {
    "language": "sql",
    "name": "cell1"
   },
   "outputs": [],
   "source": "CREATE OR REPLACE DATABASE TASK_GRAPH_DATABASE;\nCREATE OR REPLACE SCHEMA TASK_GRAPH_SCHEMA;\n\nCREATE API INTEGRATION IF NOT EXISTS GITHUB_PUBLIC\nAPI_PROVIDER = GIT_HTTPS_API\nAPI_ALLOWED_PREFIXES = ('https://github.com/')\nENABLED = TRUE;\n\nCREATE OR REPLACE GIT REPOSITORY SNOWFLAKE_LABS \nORIGIN = 'https://github.com/Snowflake-Labs/getting-started-with-task-graphs' \nAPI_INTEGRATION = 'GITHUB_PUBLIC';\n",
   "execution_count": null
  },
  {
   "cell_type": "markdown",
   "id": "3775908f-ca36-4846-8f38-5adca39217f2",
   "metadata": {
    "collapsed": false,
    "name": "title",
    "resultHeight": 316
   },
   "source": [
    "## Task Graph Run Demo\n",
    "scheduled graph run to show:\n",
    "* dag structure\n",
    "* different run statuses\n",
    "* graph config parameter\n",
    "* task return value\n",
    "* condition on stream\n",
    "* condition on predecessor\n",
    "* retry attempts"
   ]
  },
  {
   "cell_type": "code",
   "execution_count": null,
   "id": "246135ac-6f81-415d-948e-a17c4393b3eb",
   "metadata": {
    "language": "sql",
    "name": "define_schema"
   },
   "outputs": [],
   "source": [
    "use schema TASK_GRAPH_DATABASE.TASK_GRAPH_SCHEMA;\n",
    "ALTER SESSION SET query_tag = '{\"origin\":\"sf_sit-is\",\"name\":\"dex_demos\",\"version\":{\"major\":1, \"minor\":0},\"attributes\":{\"is_quickstart\":1, \"source\":\"notebook\", \"vignette\":\"tasks\"}}';"
   ]
  },
  {
   "cell_type": "code",
   "execution_count": null,
   "id": "8d50cbf4-0c8d-4950-86cb-114990437ac9",
   "metadata": {
    "collapsed": false,
    "language": "sql",
    "name": "helper_function_runtime_randomize"
   },
   "outputs": [],
   "source": [
    "--- function to randomize runtime with 1/10 as outlier (twice as long)\n",
    "create or replace function RUNTIME_WITH_OUTLIERS(REGULAR_RUNTIME NUMBER(6,0))\n",
    "returns NUMBER(6,0)\n",
    "language SQL\n",
    "comment = 'for input and output as milliseconds'\n",
    "as\n",
    "$$\n",
    "    select\n",
    "        case when uniform(1, 10, random()) = 10 \n",
    "            then cast((REGULAR_RUNTIME * 2 + (uniform(-10, 10, random()))/100 * REGULAR_RUNTIME) as NUMBER(6,0))\n",
    "            else cast((REGULAR_RUNTIME     + (uniform(-10, 10, random()))/100 * REGULAR_RUNTIME) as NUMBER(6,0))\n",
    "        end\n",
    "$$\n",
    ";"
   ]
  },
  {
   "cell_type": "code",
   "execution_count": null,
   "id": "c695373e-ac74-4b62-a1f1-08206cbd5c81",
   "metadata": {
    "collapsed": false,
    "language": "sql",
    "name": "validate_function"
   },
   "outputs": [],
   "source": [
    "--- test randomized value around 5000 miliseconds\n",
    "select RUNTIME_WITH_OUTLIERS(5000);"
   ]
  },
  {
   "cell_type": "code",
   "execution_count": null,
   "id": "c655ef4b-e6cd-4094-84c5-6d93bade9016",
   "metadata": {
    "collapsed": false,
    "language": "sql",
    "name": "demo_proc_1"
   },
   "outputs": [],
   "source": [
    "-- successful procedure 1\n",
    "create or replace procedure DEMO_PROCEDURE_1()        \n",
    "returns VARCHAR(16777216)\n",
    "language SQL\n",
    "execute as OWNER\n",
    "as \n",
    "$$\n",
    "    select system$wait(3);\n",
    "$$;"
   ]
  },
  {
   "cell_type": "code",
   "execution_count": null,
   "id": "b8281862-3722-45e9-995f-50c9cd838659",
   "metadata": {
    "language": "sql",
    "name": "demo_proc_2"
   },
   "outputs": [],
   "source": [
    "-- failing procedure at 1/2 attempts\n",
    "create or replace procedure DEMO_PROCEDURE_2()        \n",
    "returns VARCHAR(16777216)\n",
    "language SQL\n",
    "execute as OWNER\n",
    "as \n",
    "$$\n",
    "declare\n",
    "    RANDOM_VALUE number(2,0);\n",
    "begin\n",
    "    RANDOM_VALUE := (select uniform(1, 2, random()));\n",
    "    if (:RANDOM_VALUE = 2) \n",
    "        then select count(*) from OLD_TABLE;\n",
    "    end if;\n",
    "    select SYSTEM$WAIT(2);\n",
    "end\n",
    "$$;"
   ]
  },
  {
   "cell_type": "code",
   "execution_count": null,
   "id": "058d1078-2ebd-4e5b-aceb-cbb8a6c7e5b8",
   "metadata": {
    "collapsed": false,
    "language": "sql",
    "name": "demo_table"
   },
   "outputs": [],
   "source": [
    "--- create table for stream condition demo \n",
    "create or replace table TASK_DEMO_TABLE(\n",
    "\tTIME_STAMP TIMESTAMP_NTZ(9),\n",
    "\tID NUMBER(38,0) autoincrement start 1 increment 1 order,\n",
    "\tMESSAGE VARCHAR(16777216),\n",
    "\tCOMMENT VARCHAR(16777216)\n",
    ");"
   ]
  },
  {
   "cell_type": "code",
   "execution_count": null,
   "id": "96aaa5e1-076e-4642-8b0f-f62a58c587a0",
   "metadata": {
    "collapsed": false,
    "language": "sql",
    "name": "demo_stream"
   },
   "outputs": [],
   "source": [
    "--- empty stream on table as condition \n",
    "create or replace stream DEMO_STREAM\n",
    "on table TASK_DEMO_TABLE\n",
    "comment = 'empty stream on table as condition for demo task'\n",
    ";"
   ]
  },
  {
   "cell_type": "code",
   "execution_count": null,
   "id": "3431e9d6-04fa-4ead-9103-fbd0dda7fbc0",
   "metadata": {
    "collapsed": false,
    "language": "sql",
    "name": "root_task"
   },
   "outputs": [],
   "source": "alter task if exists DEMO_TASK_1 suspend;\n\n---- successful root task running every hour during EU business hours \ncreate or replace task DEMO_TASK_1 \nwarehouse = 'VW_GENAI' \ncomment = 'successful root task with random duration running every hour during EU business hours'\nschedule = 'USING CRON 15 8-18 * * MON-FRI CET'\nSUSPEND_TASK_AFTER_NUM_FAILURES = 0\nTASK_AUTO_RETRY_ATTEMPTS = 2\nconfig = $${\"RUNTIME_MULTIPLIER\": 5}$$                 --- adding default config parameter for runtime duration multiplier\nas\n    declare\n        RUNTIME_MULTIPLIER integer := SYSTEM$GET_TASK_GRAPH_CONFIG('RUNTIME_MULTIPLIER');       --- get runtime duration factor from graph config as integer\n        RANDOM_RUNTIME varchar := RUNTIME_WITH_OUTLIERS(:RUNTIME_MULTIPLIER * 1000);            --- specify the median runtime in milliseconds\n    begin\n       select SYSTEM$WAIT(:RANDOM_RUNTIME,'MILLISECONDS');                                      --- task will wait for a random duration with 1/10 being 2x as long\n       call SYSTEM$SET_RETURN_VALUE('✅ All Stage files scanned');                               --- demo return value to show in the UI\n    end\n;"
  },
  {
   "cell_type": "code",
   "execution_count": null,
   "id": "4358ff86-281b-4ef1-be7e-c46f9fcca4f5",
   "metadata": {
    "collapsed": false,
    "language": "sql",
    "name": "finalizer_task"
   },
   "outputs": [],
   "source": "--- Finalizer TASK to check all tables\ncreate or replace task DEMO_FINALIZER\nwarehouse = 'VW_GENAI'\nfinalize = DEMO_TASK_1\nas\n    declare\n        RUNTIME_MULTIPLIER integer := SYSTEM$GET_TASK_GRAPH_CONFIG('RUNTIME_MULTIPLIER');       --- get runtime duration factor from graph config as integer\n        RANDOM_RUNTIME varchar := RUNTIME_WITH_OUTLIERS(:RUNTIME_MULTIPLIER * 1000);            --- specify the median runtime in milliseconds\n    begin\n       select SYSTEM$WAIT(:RANDOM_RUNTIME,'MILLISECONDS');                                      --- task will wait for a random duration with 1/10 being twice as long\n       call SYSTEM$SET_RETURN_VALUE('✅ All checks completed.');                                 --- demo return value to show in the UI\n    end\n;"
  },
  {
   "cell_type": "code",
   "execution_count": null,
   "id": "a8e2b983-1d52-4fe1-8ecc-f38b8f21dd68",
   "metadata": {
    "collapsed": false,
    "language": "sql",
    "name": "task_2"
   },
   "outputs": [],
   "source": "-- successful task with random duration\ncreate or replace task DEMO_TASK_2 \nwarehouse = 'VW_GENAI' \ncomment = 'successful task with random duration'\nafter\n    DEMO_TASK_1 \nas\n    declare\n        RUNTIME_MULTIPLIER integer := SYSTEM$GET_TASK_GRAPH_CONFIG('RUNTIME_MULTIPLIER');\n        RANDOM_RUNTIME varchar := RUNTIME_WITH_OUTLIERS(:RUNTIME_MULTIPLIER * 3000);            --- specify the median runtime in milliseconds\n    begin\n       select SYSTEM$WAIT(:RANDOM_RUNTIME,'MILLISECONDS');       --- task will wait for a random duration with 1/10 being twice as long\n       \n       call SYSTEM$SET_RETURN_VALUE(:RANDOM_RUNTIME||' new entries loaded');\n    end\n;"
  },
  {
   "cell_type": "code",
   "execution_count": null,
   "id": "b07d190b-e580-4cc0-9e43-25f6b1e77848",
   "metadata": {
    "collapsed": false,
    "language": "sql",
    "name": "task_3"
   },
   "outputs": [],
   "source": "--- successful task with random duration calling 1 procedure \ncreate or replace task DEMO_TASK_3 \nwarehouse = 'VW_GENAI' \ncomment = 'successful task with random duration calling 1 procedure'\nafter\n    DEMO_TASK_1\nas\n    declare\n        RUNTIME_MULTIPLIER integer := SYSTEM$GET_TASK_GRAPH_CONFIG('RUNTIME_MULTIPLIER');\n        RANDOM_RUNTIME varchar := RUNTIME_WITH_OUTLIERS(:RUNTIME_MULTIPLIER * 4000);            --- specify the median runtime in milliseconds\n    begin\n        call DEMO_PROCEDURE_1();\n        \n        select SYSTEM$WAIT(:RANDOM_RUNTIME,'MILLISECONDS');       --- task will wait for a random duration with 1/10 being twice as long\n        \n        call SYSTEM$SET_RETURN_VALUE(:RANDOM_RUNTIME||' new Files processed');\n    end\n;"
  },
  {
   "cell_type": "code",
   "execution_count": null,
   "id": "ccde2424-4b1f-4937-aa3c-b69d45f6b6b2",
   "metadata": {
    "collapsed": false,
    "language": "sql",
    "name": "task_4"
   },
   "outputs": [],
   "source": "-- successful task with random duration\ncreate or replace task DEMO_TASK_4 \nwarehouse = 'VW_GENAI' \ncomment = 'successful task with random duration'\nafter\n    DEMO_TASK_2 \nas\n    declare\n        RUNTIME_MULTIPLIER integer := SYSTEM$GET_TASK_GRAPH_CONFIG('RUNTIME_MULTIPLIER');\n        RANDOM_RUNTIME varchar := RUNTIME_WITH_OUTLIERS(:RUNTIME_MULTIPLIER * 1000);            --- specify the median runtime in milliseconds\n    begin\n        select SYSTEM$WAIT(:RANDOM_RUNTIME,'MILLISECONDS');       --- task will wait for a random duration with 1/10 being twice as long\n        \n        call SYSTEM$SET_RETURN_VALUE('Delay: '||:RANDOM_RUNTIME||' milliseconds');\n    end\n;"
  },
  {
   "cell_type": "code",
   "execution_count": null,
   "id": "00ce6c84-126d-4af2-bcf7-6a08fd60691d",
   "metadata": {
    "collapsed": false,
    "language": "sql",
    "name": "task_5"
   },
   "outputs": [],
   "source": [
    "create or replace task DEMO_TASK_5 \n",
    "comment = 'serverless task'\n",
    "after\n",
    "    DEMO_TASK_1, DEMO_TASK_4 \n",
    "as\n",
    "    declare\n",
    "        RUNTIME_MULTIPLIER integer := SYSTEM$GET_TASK_GRAPH_CONFIG('RUNTIME_MULTIPLIER');\n",
    "        RANDOM_RUNTIME varchar := RUNTIME_WITH_OUTLIERS(:RUNTIME_MULTIPLIER * 200);            --- specify the median runtime in milliseconds\n",
    "    begin\n",
    "        select SYSTEM$WAIT(:RANDOM_RUNTIME,'MILLISECONDS');       --- task will wait for a random duration with 1/10 being twice as long\n",
    "        \n",
    "        call SYSTEM$SET_RETURN_VALUE('Delay: '||:RANDOM_RUNTIME||' milliseconds');\n",
    "    end\n",
    ";"
   ]
  },
  {
   "cell_type": "code",
   "execution_count": null,
   "id": "a53957c2-5823-45a9-9ef4-3c2df96d02f7",
   "metadata": {
    "collapsed": false,
    "language": "sql",
    "name": "task_6"
   },
   "outputs": [],
   "source": "--- successful task calling 1 system function to send a random return value 1/2/3\n\ncreate or replace task DEMO_TASK_6 \nwarehouse = 'VW_GENAI' \ncomment = 'successful task calling 1 system function to send a random return value 1/2/3'\nafter\n    DEMO_TASK_3 \nas\n    declare\n        RANDOM_VALUE varchar;\n    begin\n        RANDOM_VALUE := (select UNIFORM(1, 3, RANDOM()));\n        case when :RANDOM_VALUE = 1\n        then\n            call SYSTEM$SET_RETURN_VALUE('✅ Quality Check Passed');\n        else\n            call SYSTEM$SET_RETURN_VALUE('⚠️ Quality Check Failed');\n        end;\n    end;\n;"
  },
  {
   "cell_type": "code",
   "execution_count": null,
   "id": "a972a7c8-f7cd-4815-83c1-152edaebd13b",
   "metadata": {
    "collapsed": false,
    "language": "sql",
    "name": "task_7"
   },
   "outputs": [],
   "source": "--- successful task calling system function \n\ncreate or replace task DEMO_TASK_7 \nwarehouse = 'VW_GENAI' \ncomment = 'successful task calling 1 system function'\nafter\n    DEMO_TASK_6 \nas\n    declare\n        RUNTIME_MULTIPLIER integer := SYSTEM$GET_TASK_GRAPH_CONFIG('RUNTIME_MULTIPLIER');\n        RANDOM_RUNTIME varchar := RUNTIME_WITH_OUTLIERS(:RUNTIME_MULTIPLIER * 4000);            --- specify the median runtime in milliseconds\n    begin\n        RANDOM_RUNTIME := RUNTIME_WITH_OUTLIERS(:RUNTIME_MULTIPLIER * 5000);            --- specify the median runtime in milliseconds\n       \n        call SYSTEM$WAIT(:RANDOM_RUNTIME,'MILLISECONDS');       --- task will wait for a random duration with 1/20 being twice as long\n       \n        call SYSTEM$SET_RETURN_VALUE('https://app.snowflake.com/pm/dex_demo/logging-and-alerting-demo-dCHJfecoR');\n    end\n;"
  },
  {
   "cell_type": "code",
   "execution_count": null,
   "id": "ca403c49-b916-4a00-9562-53a38619a719",
   "metadata": {
    "collapsed": false,
    "language": "sql",
    "name": "task_8"
   },
   "outputs": [],
   "source": "--- skipped task because stream condition is not met\n\ncreate or replace task DEMO_TASK_8 \nwarehouse = 'VW_GENAI' \ncomment ='skipped task because stream condition is not met'\nafter\n    DEMO_TASK_7 \nwhen \n    SYSTEM$STREAM_HAS_DATA('DEMO_STREAM') \nas\n    select SYSTEM$WAIT(4)\n;"
  },
  {
   "cell_type": "code",
   "execution_count": null,
   "id": "aa399d58-8ac4-453d-830f-b5613eab48f5",
   "metadata": {
    "collapsed": false,
    "language": "sql",
    "name": "task_9"
   },
   "outputs": [],
   "source": "--- failing task with first procedure succeeding and second procedure failing 1/4 cases\n\ncreate or replace task DEMO_TASK_9 \nwarehouse = 'VW_GENAI' \ncomment = 'failing task with first procedure succeeding and second procedure failing 1/4 cases'\nafter\n    DEMO_TASK_4 \nas\n    begin\n        call DEMO_PROCEDURE_1();\n                \n        select SYSTEM$WAIT(3);\n        \n        call DEMO_PROCEDURE_2();\n    end\n;"
  },
  {
   "cell_type": "code",
   "execution_count": null,
   "id": "61a0197c-55d8-4d50-9a87-9cdb510b169b",
   "metadata": {
    "collapsed": false,
    "language": "sql",
    "name": "task_10"
   },
   "outputs": [],
   "source": "--- task does not run after failing task 9\n\ncreate or replace task DEMO_TASK_10 \nwarehouse = 'VW_GENAI' \ncomment = 'task does not run after failing task 9'\nafter\n    DEMO_TASK_9 \nas\n    declare\n        RUNTIME_MULTIPLIER integer := SYSTEM$GET_TASK_GRAPH_CONFIG('RUNTIME_MULTIPLIER');\n        RANDOM_RUNTIME varchar := RUNTIME_WITH_OUTLIERS(:RUNTIME_MULTIPLIER * 4000);            --- specify the median runtime in milliseconds\n    begin\n        RANDOM_RUNTIME := RUNTIME_WITH_OUTLIERS(:RUNTIME_MULTIPLIER * 2000);            --- specify the median runtime in milliseconds\n        select SYSTEM$WAIT(:RANDOM_RUNTIME,'MILLISECONDS');       --- task will wait for a random duration with 1/10 being twice as long\n        \n        return 'Delay: '||:RANDOM_RUNTIME||' milliseconds';\n    end\n;"
  },
  {
   "cell_type": "code",
   "execution_count": null,
   "id": "818a6514-2beb-4d6e-a6cb-feca3d625bfb",
   "metadata": {
    "collapsed": false,
    "language": "sql",
    "name": "task_11"
   },
   "outputs": [],
   "source": "--- task skipped 1/3 times, if TASK_6 returns '3' \n\ncreate or replace task DEMO_TASK_11 \nwarehouse = 'VW_GENAI'\ncomment = 'task skipped 1/3 times, if TASK_6 returns passed'\nafter\n    DEMO_TASK_6\nwhen \n    SYSTEM$GET_PREDECESSOR_RETURN_VALUE('DEMO_TASK_6') = 'Quality Check Passed'\nas\n    declare\n        RUNTIME_MULTIPLIER integer := SYSTEM$GET_TASK_GRAPH_CONFIG('RUNTIME_MULTIPLIER');\n        RANDOM_RUNTIME varchar := RUNTIME_WITH_OUTLIERS(:RUNTIME_MULTIPLIER * 4000);            --- specify the median runtime in milliseconds\n    begin\n        RANDOM_RUNTIME := RUNTIME_WITH_OUTLIERS(:RUNTIME_MULTIPLIER * 3000);            --- specify the median runtime in milliseconds\n        select SYSTEM$WAIT(:RANDOM_RUNTIME,'MILLISECONDS');       --- task will wait for a random duration with 1/20 being twice as long\n        \n        return 'Delay: '||:RANDOM_RUNTIME||' milliseconds';\n    end\n;"
  },
  {
   "cell_type": "code",
   "execution_count": null,
   "id": "8627d03f-8d38-4535-bffa-9c53762c2e07",
   "metadata": {
    "collapsed": false,
    "language": "sql",
    "name": "task_12"
   },
   "outputs": [],
   "source": "--- task self-cancelling 1/10 times after long run\ncreate or replace task DEMO_TASK_12 \nwarehouse = 'VW_GENAI'\ncomment = 'task self-cancelling 1/10 times after long run'\nafter\n    DEMO_TASK_3 \nas\n    declare\n        RANDOM_VALUE number(2,0);\n    begin\n        RANDOM_VALUE := (select UNIFORM(1, 10, RANDOM()));\n        if (:RANDOM_VALUE = 10) then\n            select SYSTEM$WAIT(12);\n            select SYSTEM$USER_TASK_CANCEL_ONGOING_EXECUTIONS('DEMO_TASK_12');\n        end if;\n        \n        select SYSTEM$WAIT(2);\n    end\n;"
  },
  {
   "cell_type": "code",
   "execution_count": null,
   "id": "ff516ff4-7111-43e9-abee-9516f7d0b1c4",
   "metadata": {
    "collapsed": false,
    "language": "sql",
    "name": "task_13"
   },
   "outputs": [],
   "source": "--- successful task with 2 predecessors\ncreate or replace task DEMO_TASK_13 \nwarehouse = 'VW_GENAI'\ncomment = 'successful task with 2 predecessors'\nafter\n    DEMO_TASK_12,\n    DEMO_TASK_2\nas\n    select SYSTEM$WAIT(3)\n;"
  },
  {
   "cell_type": "code",
   "execution_count": null,
   "id": "c58e3560-e754-4a9d-bcf5-7294f88ab701",
   "metadata": {
    "collapsed": false,
    "language": "sql",
    "name": "task_14"
   },
   "outputs": [],
   "source": "--- always suspended task\ncreate or replace task DEMO_TASK_14 \nwarehouse = 'VW_GENAI'\ncomment = 'always suspended task'\nafter\n    DEMO_TASK_9 \nas\n    select SYSTEM$WAIT(3)\n;"
  },
  {
   "cell_type": "code",
   "execution_count": null,
   "id": "5e615dce-b99e-497c-9e78-5e4b2adea78e",
   "metadata": {
    "language": "sql",
    "name": "task_15"
   },
   "outputs": [],
   "source": "--- always suspended task\ncreate or replace task DEMO_TASK_15 \nwarehouse = 'VW_GENAI'\ncomment = 'never runs because predecessor is suspended'\nafter\n    DEMO_TASK_14 \nas\n    select 1\n;"
  },
  {
   "cell_type": "code",
   "execution_count": null,
   "id": "42b7f489-2777-4071-8fdf-b2abc8a7cc9d",
   "metadata": {
    "language": "sql",
    "name": "resume_and_run"
   },
   "outputs": [],
   "source": [
    "--- resume all, suspend 1 to suspend 14. then resume 1 and execute\n",
    "select SYSTEM$TASK_DEPENDENTS_ENABLE('DEMO_TASK_1');\n",
    "alter task DEMO_TASK_1 suspend;\n",
    "alter task DEMO_TASK_14 suspend;\n",
    "\n",
    "--- known bug that finalizer does not resume with graph -> fix coming\n",
    "alter task DEMO_FINALIZER resume;\n",
    "\n",
    "alter task DEMO_TASK_1 resume;\n",
    "execute task DEMO_TASK_1;"
   ]
  },
  {
   "cell_type": "code",
   "id": "7ab1251f-f72a-4d09-874a-293719af7e98",
   "metadata": {
    "language": "sql",
    "name": "cell2"
   },
   "outputs": [],
   "source": "\n/*DROP DATABASE TASK_GRAPH_DATABASE;\nDROP INTEGRATION GITHUB_PUBLIC;*/\n",
   "execution_count": null
  }
 ]
}