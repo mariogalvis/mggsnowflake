{
 "metadata": {
  "kernelspec": {
   "display_name": "Streamlit Notebook",
   "name": "streamlit"
  },
  "lastEditStatus": {
   "notebookId": "p7g6kbe6adtxzcqdcgr2",
   "authorId": "1206008433760",
   "authorName": "MGGSNOWFLAKE",
   "authorEmail": "mggsnowflake@gmail.com",
   "sessionId": "659e1526-42e2-41d7-a978-62740f914a92",
   "lastEditTime": 1743174003666
  }
 },
 "nbformat_minor": 5,
 "nbformat": 4,
 "cells": [
  {
   "cell_type": "code",
   "id": "5537d4cb-1321-46fa-9090-024eb709f1c3",
   "metadata": {
    "language": "python",
    "name": "cell4"
   },
   "outputs": [],
   "source": "#######################\n#   Python example.   #\n#######################\n# required package: snowflake-ml-python\n# pip install snowflake-ml-python \n\n#import libraties \nfrom snowflake.cortex import complete\nfrom snowflake.snowpark.context import get_active_session\nimport streamlit as st\n\n#since running in Snowflake notebook, you can use current sesison \nsession = get_active_session()\n\n##call Cortex Complete Python API \nresponse = complete(\n  \"deepseek-r1\",\n  \"What's great about Snowflake Cortex?\",\n  session=session,\n  stream=False)\n\nst.write(response)\n\n# if using stream=True you can stream the output with a loop\n#for update in response:\n#  st.write(update)",
   "execution_count": null
  }
 ]
}