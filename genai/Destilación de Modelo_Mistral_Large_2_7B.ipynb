{
 "metadata": {
  "kernelspec": {
   "display_name": "Streamlit Notebook",
   "name": "streamlit"
  },
  "lastEditStatus": {
   "notebookId": "4rg2neqjmqsrjeus5ly2",
   "authorId": "1206008433760",
   "authorName": "MGGSNOWFLAKE",
   "authorEmail": "mggsnowflake@gmail.com",
   "sessionId": "109480bf-b097-4a14-84c6-02c0476a888f",
   "lastEditTime": 1738122231884
  }
 },
 "nbformat_minor": 5,
 "nbformat": 4,
 "cells": [
  {
   "cell_type": "code",
   "execution_count": null,
   "id": "cb7310e0-4362-4cd2-bad9-fd70854ef709",
   "metadata": {
    "codeCollapsed": false,
    "collapsed": false,
    "language": "python",
    "name": "cell1",
    "resultHeight": 0
   },
   "outputs": [],
   "source": [
    "from snowflake.snowpark.context import get_active_session\n",
    "import snowflake.snowpark.functions as F\n",
    "import streamlit as st\n",
    "import ast\n",
    "\n",
    "session = get_active_session()"
   ]
  },
  {
   "cell_type": "code",
   "id": "ddcd6c3a-9b6d-4dea-a0f5-d7ed1ae00f28",
   "metadata": {
    "language": "sql",
    "name": "cell3",
    "collapsed": false
   },
   "outputs": [],
   "source": "create or replace database SUPPORT_DB;\ncreate or replace schema SUPPORT_DATA;",
   "execution_count": null
  },
  {
   "cell_type": "code",
   "id": "d3db7349-3f1a-401c-84b3-d3cca3b20f79",
   "metadata": {
    "language": "sql",
    "name": "cell26",
    "collapsed": false
   },
   "outputs": [],
   "source": "CREATE or REPLACE file format csvformat\n  SKIP_HEADER = 1\n  FIELD_OPTIONALLY_ENCLOSED_BY = '\"'\n  type = 'CSV';\n\nCREATE or REPLACE stage support_tickets_data_stage\n  file_format = csvformat\n  url = 's3://sfquickstarts/finetuning_llm_using_snowflake_cortex_ai/';\n\nCREATE or REPLACE TABLE SUPPORT_TICKETS (\n  ticket_id VARCHAR(60),\n  customer_name VARCHAR(60),\n  customer_email VARCHAR(60),\n  service_type VARCHAR(60),\n  request VARCHAR,\n  contact_preference VARCHAR(60)\n)\nCOMMENT = '{\"origin\":\"sf_sit-is\", \"name\":\"aiml_notebooks_fine_tuning\", \"version\":{\"major\":1, \"minor\":0}, \"attributes\":{\"is_quickstart\":1, \"source\":\"sql\"}}';\n\nCOPY into SUPPORT_TICKETS\n  from @support_tickets_data_stage;",
   "execution_count": null
  },
  {
   "cell_type": "markdown",
   "id": "b5727103-e592-4879-bb1f-5f7384994e46",
   "metadata": {
    "collapsed": false,
    "name": "cell0",
    "resultHeight": 74
   },
   "source": [
    "# Preview Support Tickets"
   ]
  },
  {
   "cell_type": "code",
   "execution_count": null,
   "id": "4e462120-ae80-4ab6-bce3-1025164f3705",
   "metadata": {
    "collapsed": false,
    "language": "sql",
    "name": "cell21",
    "resultHeight": 112
   },
   "outputs": [],
   "source": "use database SUPPORT_DB;\nuse schema SUPPORT_DATA;"
  },
  {
   "cell_type": "code",
   "execution_count": null,
   "id": "5cc43b0f-f99d-4790-b4f7-eb56c0dbfe2f",
   "metadata": {
    "collapsed": false,
    "language": "python",
    "name": "cell16",
    "resultHeight": 439
   },
   "outputs": [],
   "source": [
    "df_support_tickets = session.table('SUPPORT_TICKETS')\n",
    "df_support_tickets"
   ]
  },
  {
   "cell_type": "markdown",
   "id": "1a34347c-0a82-4cac-950a-1b9c848c6200",
   "metadata": {
    "collapsed": false,
    "name": "cell13",
    "resultHeight": 60
   },
   "source": [
    "## Custom email or text reponse generation for support tickets using LLMs"
   ]
  },
  {
   "cell_type": "code",
   "execution_count": null,
   "id": "61d5f948-7fe4-482c-b178-00e90a327e18",
   "metadata": {
    "collapsed": false,
    "language": "python",
    "name": "cell9",
    "resultHeight": 0
   },
   "outputs": [],
   "source": "prompt = \"\"\"You are a customer support representative at a telecommunications company. \nSuddenly there is a spike in customer support tickets. \nYou need to understand and analyze the support requests from customers.\nBased on the root cause of the main issue in the support request, craft a response to resolve the customer issue.\nWrite a text message under 25 words, if the contact_preference field is text message.\nWrite an email in maximum of 100 words if the contact_preference field is email. \nFocus on alleviating the customer issue and improving customer satisfaction in your response.\nStrictly follow the word count limit for the response. \nWrite only email or text message response based on the contact_preference for every customer. \nDo not generate both email and text message response.\nAlways answer in Spanish.\n\"\"\"\n\n\nprompt1 = \"\"\"\nPlease write an email or text promoting a new plan that will save customers total costs. \nAlso resolve the customer issue based on the ticket category. \nIf the contact_preference is text message, write text message response in less than 25 words. \nIf the contact_preference is email, write email response in maximum 100 words.\nWrite only email or text message response based on the contact_preference for every customer.\nAlways answer in Spanish.\n\"\"\""
  },
  {
   "cell_type": "code",
   "execution_count": null,
   "id": "a894e3a1-ec1d-4933-ba66-956db6986d0e",
   "metadata": {
    "collapsed": false,
    "language": "python",
    "name": "cell24",
    "resultHeight": 0
   },
   "outputs": [],
   "source": "ticket_categories = ['Roaming fees', 'Slow data speed', 'Lost phone', 'Add new line', 'Closing account']"
  },
  {
   "cell_type": "markdown",
   "id": "5d1c1dab-ae52-4cb6-9dbc-5a91ca2fac10",
   "metadata": {
    "collapsed": false,
    "name": "cell14",
    "resultHeight": 60
   },
   "source": [
    "## Mistral-7b response"
   ]
  },
  {
   "cell_type": "code",
   "execution_count": null,
   "id": "4954d50e-58db-4781-8d15-014a09b843ce",
   "metadata": {
    "collapsed": false,
    "language": "python",
    "name": "cell28",
    "resultHeight": 439
   },
   "outputs": [],
   "source": "df_mistral_7b_response_sql = f\"\"\" select ticket_id, \nsnowflake.cortex.classify_text(request, {ticket_categories}) as ticket_category,\ncontact_preference, \ntrim(snowflake.cortex.complete('mistral-7b',concat('{prompt}', request, ticket_category, contact_preference)),'\\n') \n    as mistral_7b_response\nfrom SUPPORT_TICKETS\"\"\"\n\ndf_mistral_7b_response = session.sql(df_mistral_7b_response_sql)\ndf_mistral_7b_response"
  },
  {
   "cell_type": "markdown",
   "id": "3b38e140-412f-461a-a411-d65b8c446d81",
   "metadata": {
    "collapsed": false,
    "name": "cell31",
    "resultHeight": 60
   },
   "source": [
    "## mistral-large response"
   ]
  },
  {
   "cell_type": "code",
   "execution_count": null,
   "id": "e38557d9-9e4b-4f1f-8ee5-28b47a97b5ad",
   "metadata": {
    "collapsed": false,
    "language": "python",
    "name": "cell23",
    "resultHeight": 439
   },
   "outputs": [],
   "source": "mistral_large_response_sql = f\"\"\" select ticket_id, \nsnowflake.cortex.classify_text(request, {ticket_categories}) as ticket_category,\ncontact_preference, \ntrim(snowflake.cortex.complete('mistral-large',concat('{prompt}', request, ticket_category, contact_preference)),'\\n') \n    as mistral_large_response\nfrom SUPPORT_TICKETS\"\"\"\n\ndf_mistral_large_response = session.sql(mistral_large_response_sql)\ndf_mistral_large_response"
  },
  {
   "cell_type": "markdown",
   "id": "7f8cd51b-96d8-44d5-adc4-50a1b62fc914",
   "metadata": {
    "collapsed": false,
    "name": "cell10",
    "resultHeight": 74
   },
   "source": [
    "# Generate dataset to fine-tune mistral-7b"
   ]
  },
  {
   "cell_type": "code",
   "execution_count": null,
   "id": "ffa07665-65a4-4456-8c43-85b5c7091b31",
   "metadata": {
    "collapsed": false,
    "language": "python",
    "name": "cell5",
    "resultHeight": 439
   },
   "outputs": [],
   "source": [
    "# Stage 1: Filter by CONTACT_PREFERENCE\n",
    "df_text = df_mistral_large_response.filter(F.col(\"CONTACT_PREFERENCE\") == 'Text Message')\n",
    "df_email = df_mistral_large_response.filter(F.col(\"CONTACT_PREFERENCE\") == \"Email\")\n",
    "\n",
    "# Stage 2: Apply word count logic\n",
    "df_text_filtered = df_text.filter(F.regexp_count(F.col(\"MISTRAL_LARGE_RESPONSE\"), r\" \") <= 25)\n",
    "df_email_filtered = df_email.filter(F.regexp_count(F.col(\"MISTRAL_LARGE_RESPONSE\"), r\" \") > 30)\n",
    "\n",
    "# Combine the results\n",
    "df_filtered = df_text_filtered.union(df_email_filtered)\n",
    "\n",
    "df_filtered"
   ]
  },
  {
   "cell_type": "code",
   "execution_count": null,
   "id": "e5cac625-2b29-4dcc-a802-ddefb6c28a2d",
   "metadata": {
    "collapsed": false,
    "language": "python",
    "name": "cell30",
    "resultHeight": 439
   },
   "outputs": [],
   "source": [
    "df_filtered.write.save_as_table(\"SUPPORT_TICKET_RESPONSES\", mode=\"overwrite\")  # \"overwrite\" can be changed to \"append\"\n",
    "\n",
    "# Optional: Show the saved table to verify\n",
    "saved_df = session.table(\"SUPPORT_TICKET_RESPONSES\")\n",
    "saved_df"
   ]
  },
  {
   "cell_type": "code",
   "execution_count": null,
   "id": "139c2111-f220-4be2-b907-4b2a140fdea4",
   "metadata": {
    "codeCollapsed": false,
    "collapsed": false,
    "language": "python",
    "name": "cell2",
    "resultHeight": 0
   },
   "outputs": [],
   "source": [
    "df_fine_tune = saved_df.with_column(\"prompt\", \n",
    "                                    F.concat(F.lit(prompt), \n",
    "                                             F.lit(\" \"), \n",
    "                                             F.lit(\"Contact preference: \"),\n",
    "                                             F.col(\"contact_preference\"), \n",
    "                                             F.lit(\" \"),\n",
    "                                             F.col(\"ticket_category\")))\\\n",
    "                        .select(\"ticket_id\",\n",
    "                                \"prompt\",\n",
    "                                \"mistral_large_response\")\n",
    "\n",
    "df_fine_tune.write.mode('overwrite').save_as_table('support_tickets_finetune_message_style')"
   ]
  },
  {
   "cell_type": "markdown",
   "id": "5ce01346-2b85-425f-9675-d3a2626c27f6",
   "metadata": {
    "collapsed": false,
    "name": "cell6",
    "resultHeight": 135
   },
   "source": [
    "# Fine-tune mistral-7b\n",
    "\n",
    "## Split data into training and evaluation"
   ]
  },
  {
   "cell_type": "code",
   "execution_count": null,
   "id": "07123242-032c-4c28-aa00-be737c45af80",
   "metadata": {
    "codeCollapsed": false,
    "collapsed": false,
    "language": "python",
    "name": "cell4",
    "resultHeight": 0
   },
   "outputs": [],
   "source": [
    "train_df, eval_df = session.table(\"support_tickets_finetune_message_style\").random_split(weights=[0.8, 0.2], seed=42)\n",
    "\n",
    "train_df.write.mode('overwrite').save_as_table('support_tickets_finetune_message_style_train')\n",
    "eval_df.write.mode('overwrite').save_as_table('support_tickets_finetune_message_style_eval')"
   ]
  },
  {
   "cell_type": "code",
   "execution_count": null,
   "id": "0c86dfda-75f7-451d-bf1b-2e19b0d938a5",
   "metadata": {
    "collapsed": false,
    "language": "python",
    "name": "cell17",
    "resultHeight": 357
   },
   "outputs": [],
   "source": [
    "session.table('support_tickets_finetune_message_style_train').show(1)"
   ]
  },
  {
   "cell_type": "code",
   "execution_count": null,
   "id": "dc07d19f-415e-4f5a-bc6d-c6fe3b046577",
   "metadata": {
    "collapsed": false,
    "language": "python",
    "name": "cell18",
    "resultHeight": 357
   },
   "outputs": [],
   "source": [
    "session.table('support_tickets_finetune_message_style_eval').show(1)"
   ]
  },
  {
   "cell_type": "markdown",
   "id": "c8b34618-1fce-4bd7-b715-ccccac5e1eae",
   "metadata": {
    "collapsed": false,
    "name": "cell8",
    "resultHeight": 60
   },
   "source": [
    "## *Fine-tune mistral-7b model using Cortex*"
   ]
  },
  {
   "cell_type": "code",
   "execution_count": null,
   "id": "e00144d1-0e22-4e08-aeae-a46e47541703",
   "metadata": {
    "collapsed": false,
    "language": "sql",
    "name": "cell12",
    "resultHeight": 112
   },
   "outputs": [],
   "source": "select snowflake.cortex.finetune('CREATE', \n'SUPPORT_MESSAGES_FINETUNED_MISTRAL_7B', \n'mistral-7b', \n'SELECT prompt, mistral_large_response as completion from support_tickets_finetune_message_style_train',\n'SELECT prompt, mistral_large_response as completion from support_tickets_finetune_message_style_eval');"
  },
  {
   "cell_type": "code",
   "execution_count": null,
   "id": "97e22e9e-6201-4643-a036-acb29e04867d",
   "metadata": {
    "collapsed": false,
    "language": "sql",
    "name": "cell25",
    "resultHeight": 112
   },
   "outputs": [],
   "source": [
    "select snowflake.cortex.finetune('SHOW');"
   ]
  },
  {
   "cell_type": "markdown",
   "id": "1db774c3-b9cc-444e-84b5-7de8e61d680a",
   "metadata": {
    "collapsed": false,
    "name": "cell20",
    "resultHeight": 46
   },
   "source": [
    "### See status of the fine tuning job"
   ]
  },
  {
   "cell_type": "code",
   "execution_count": null,
   "id": "a21516fe-e328-4793-9953-7d5d6b7e616c",
   "metadata": {
    "collapsed": false,
    "language": "sql",
    "name": "cell19",
    "resultHeight": 112
   },
   "outputs": [],
   "source": "select snowflake.cortex.finetune('DESCRIBE', 'ft_afc1da8d-e14a-4c27-8af4-11bd6ccbacf2');"
  },
  {
   "cell_type": "markdown",
   "id": "2c6c7a29-681b-43c1-b977-f4cacceed5bf",
   "metadata": {
    "collapsed": false,
    "name": "cell11",
    "resultHeight": 74
   },
   "source": [
    "# Inference using fine-tuned model"
   ]
  },
  {
   "cell_type": "code",
   "execution_count": null,
   "id": "abb461ab-f107-4136-b000-e3a4792ac7f8",
   "metadata": {
    "collapsed": false,
    "language": "python",
    "name": "cell15",
    "resultHeight": 439
   },
   "outputs": [],
   "source": "fine_tuned_model_name = 'SUPPORT_MESSAGES_FINETUNED_MISTRAL_7B'\n\nsql = f\"\"\" select ticket_id, \nsnowflake.cortex.classify_text(request, {ticket_categories}) as ticket_category,\ncontact_preference, \ntrim(snowflake.cortex.complete('{fine_tuned_model_name}',concat('{prompt}', request, ticket_category, contact_preference)),'\\n') \n    as fine_tuned_mistral_7b_model_response\nfrom SUPPORT_TICKETS\"\"\"\n\ndf_fine_tuned_mistral_7b_response = session.sql(sql)\ndf_fine_tuned_mistral_7b_response"
  },
  {
   "cell_type": "markdown",
   "id": "5c07bb19-fd7e-47f8-b99d-43d6c65241d9",
   "metadata": {
    "collapsed": false,
    "name": "cell7",
    "resultHeight": 60
   },
   "source": [
    "## Streamlit application to auto-generate custom emails and text messages"
   ]
  },
  {
   "cell_type": "code",
   "execution_count": null,
   "id": "cacc8136-a122-41c6-ac0b-86348b5fb75c",
   "metadata": {
    "collapsed": false,
    "language": "python",
    "name": "cell22",
    "resultHeight": 570
   },
   "outputs": [],
   "source": "st.subheader(\"Generar automáticamente correos electrónicos o mensajes de texto personalizados\")\n\nwith st.container():\n    with st.expander(\"Ingrese la solicitud del cliente y seleccione LLM\", expanded=True):\n        #customer_request = st.text_area('Request',\"\"\"Viajé a Lima durante dos semanas y mantuve mi uso de datos al mínimo. Sin embargo, se me cobraron $90 en tarifas internacionales. Estos cargos no me fueron comunicados, y solicito un desglose detallado y un reembolso. Gracias.\"\"\")\n        #Desde hace varios días, la velocidad de mi conexión a Internet ha sido extremadamente lenta, incluso cuando solo tengo un dispositivo conectado. No puedo ver videos en streaming ni hacer videollamadas sin interrupciones. He reiniciado el router varias veces, pero el problema persiste. Solicito una solución urgente o una revisión de mi servicio contratado.\n        #ticket_categories = ['Roaming', 'Lentitud de Datos', 'Celular Perdido', 'Nueva Línea', 'Cerrar Cuenta']\n\n        customer_request = st.text_area('Request', \"\"\"Realicé un pago con mi tarjeta de crédito, pero la transacción fue rechazada sin razón aparente. Me gustaría entender el motivo y si hay algún bloqueo en mi cuenta. Agradecería una pronta solución.\"\"\")\n        #Revisando los movimientos de mi cuenta, noté un cargo de 450.000 pesos que no reconozco y que nunca autoricé. Intenté comunicarme con el banco, pero no he recibido una respuesta clara sobre el proceso de disputa. Solicito una investigación urgente y el reembolso del monto debitado sin mi autorización.\n        ticket_categories = ['Problema con Tarjeta', 'Fraude o Transacción No Reconocida', 'Solicitud de Crédito', 'Acceso a Banca Digital', 'Cierre de Cuenta']\n        \n        #customer_request = st.text_area('Solicitud', \"\"\"Tuve una emergencia médica y acudí a un hospital dentro de la red de cobertura. Sin embargo, al momento del pago, me informaron que mi póliza no cubría ciertos procedimientos, a pesar de que en el contrato se indicaba lo contrario. Solicito una aclaración y el reembolso de los costos adicionales que tuve que asumir.\"\"\")\n        #La semana pasada tuve una emergencia médica y llamé a la línea de asistencia de mi seguro para solicitar una ambulancia. Me dijeron que llegaría en 20 minutos, pero tardó más de una hora en llegar. Como consecuencia, tuve que buscar otro medio de transporte para llegar al hospital. Solicito una explicación sobre lo ocurrido y qué medidas tomarán para evitar estas demoras en el futuro.\n        #ticket_categories = ['Reclamación de Seguro', 'Estado de Póliza', 'Cobertura de Beneficios', 'Cambio de Plan', 'Atención Médica y Asistencia']\n         \n        with st.container():\n            left_col, right_col = st.columns(2)\n            with left_col:\n                selected_preference = st.selectbox('Seleccione preferencia de contacto', ('Text message', 'Email'), index=1)\n            with right_col:\n                selected_llm = st.selectbox('Seleccione LLM',('llama3-8b', 'mistral-7b', 'mistral-large', 'SUPPORT_MESSAGES_FINETUNED_MISTRAL_7B',), index=1)\n\nwith st.container():\n    _,mid_col,_ = st.columns([.4,.3,.3])\n    with mid_col:\n        generate_template = st.button('Generar Mensaje ⚡',type=\"primary\")\n\nwith st.container():\n    if generate_template:\n        category_sql = f\"\"\"\n        select snowflake.cortex.classify_text('{customer_request}', {ticket_categories}) as ticket_category\n        \"\"\"\n        df_category = session.sql(category_sql).to_pandas().iloc[0]['TICKET_CATEGORY']\n        df_category_dict = ast.literal_eval(df_category)\n        st.subheader(\"Categoría de Solicitud\")\n        st.write(df_category_dict['label'])\n\n        message_sql = f\"\"\"\n        select snowflake.cortex.translate(snowflake.cortex.complete('{selected_llm}',concat('{prompt}', '{customer_request}', '{selected_preference}')),'en','es') as custom_message\n        \"\"\"\n        df_message = session.sql(message_sql).to_pandas().iloc[0]['CUSTOM_MESSAGE']\n        st.subheader(selected_preference)\n        st.write(df_message)"
  }
 ]
}