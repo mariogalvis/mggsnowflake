{
 "metadata": {
  "kernelspec": {
   "display_name": "Streamlit Notebook",
   "name": "streamlit"
  },
  "lastEditStatus": {
   "notebookId": "4wkx4jmjvbit7quox3st",
   "authorId": "7737905990647",
   "authorName": "MGGSNOWFLAKE3",
   "authorEmail": "mggsnowflake3@gmail.com",
   "sessionId": "2b81d56d-d219-4b6f-b224-df18b117ff3d",
   "lastEditTime": 1761543063841
  }
 },
 "nbformat_minor": 5,
 "nbformat": 4,
 "cells": [
  {
   "cell_type": "code",
   "id": "3775908f-ca36-4846-8f38-5adca39217f2",
   "metadata": {
    "language": "python",
    "name": "cell1",
    "resultHeight": 0,
    "collapsed": false
   },
   "source": "import json\n\nfrom snowflake.snowpark.context import get_active_session\nsession = get_active_session()",
   "execution_count": null,
   "outputs": []
  },
  {
   "cell_type": "markdown",
   "id": "c05bf4db-5938-4e12-82ca-508cb4144742",
   "metadata": {
    "name": "cell16",
    "collapsed": false
   },
   "source": "# Salud"
  },
  {
   "cell_type": "code",
   "id": "3dfc1bf8-4dc9-40fd-a04e-aabb381ec224",
   "metadata": {
    "language": "python",
    "name": "cell5",
    "resultHeight": 0,
    "codeCollapsed": false,
    "collapsed": false
   },
   "outputs": [],
   "source": "medical_notes = \"\"\"\nNombre del paciente: Juan Pérez\nFecha de la visita: 19 de noviembre de 2024\nFecha de nacimiento: 15 de enero de 1980\n\nMotivo de consulta:\nSeguimiento por proteinuria.\n\nAntecedentes de la enfermedad actual:\nHombre de 44 años con proteinuria (1,2 g/día) confirmada hace tres meses. Niega hematuria o disuria. Recibe 50 mg diarios de losartán potásico durante 6 semanas con mejoría parcial. La presión arterial permanece ligeramente elevada.\n\nDatos objetivos:\nConstantes vitales:\n\nPA: 142/88 mmHg\nFC: 78 lpm\n\nAnálisis de laboratorio:\nProporción de proteínas en orina: 1,1 (mejora desde 1,5)\nCreatinina sérica: 1,1 mg/dl (estable)\nPotasio: 4,8 mmol/l\nEvaluación:\nProteinuria: Posible nefropatía hipertensiva, que mejora con losartán.\nHipertensión: Parcialmente controlada.\nPlan:\nContinuar con 50 mg diarios de losartán potásico; considerar un aumento de dosis si es necesario.\nIniciar tratamiento de comparación: Placebo (losartán) para monitorización como parte del ensayo clínico.\nEvaluar la respuesta al besilato de amlodipino, placebo (amlodipino) y, posiblemente, al maleato de enalapril si la respuesta a los ARA II es insuficiente.\nReevaluar los análisis de laboratorio en 6 semanas, incluyendo la proteinuria y la función renal.\nNombre del profesional: Dra. Amanda Clarke\n\"\"\"",
   "execution_count": null
  },
  {
   "cell_type": "code",
   "id": "0ab1a000-22d9-4dc9-8da4-e33987c2c508",
   "metadata": {
    "language": "python",
    "name": "cell4",
    "codeCollapsed": false,
    "resultHeight": 0,
    "collapsed": false
   },
   "outputs": [],
   "source": "medical_request = [\n    {\n        \"role\": \"system\",\n        \"content\": f\"\"\"\nSu objetivo es extraer información estructurada de la entrada del usuario\nque coincida con el formulario descrito a continuación.\nAl extraer información, asegúrese de que coincida exactamente con el tipo de información\ny proporcione únicamente la información extraída.\n\nCondiciones: <condiciones completas>\nIntervenciones: {{intervenciones completas}}\n\"\"\"\n    },\n    {\n        \"role\": \"user\",\n        \"content\": medical_notes\n    }\n]\n",
   "execution_count": null
  },
  {
   "cell_type": "code",
   "id": "d30b04ec-586d-488f-9274-1f81d69e7730",
   "metadata": {
    "language": "python",
    "name": "cell2",
    "resultHeight": 323,
    "codeCollapsed": false,
    "collapsed": false
   },
   "outputs": [],
   "source": "from snowflake.cortex import complete\n\nresponse = complete(\"llama3.1-405b\", medical_request)\n#response = complete(\"openai-gpt-5\", medical_request)\n#response = complete(\"claude-sonnet-4-5\", medical_request)\n\nresponse\n\n#json.loads(response)[\"choices\"][0][\"messages\"]",
   "execution_count": null
  },
  {
   "cell_type": "markdown",
   "id": "868f957b-12da-4fb1-8309-8fcc44b47ca3",
   "metadata": {
    "name": "cell17",
    "collapsed": false
   },
   "source": "# Servicios Financieros"
  },
  {
   "cell_type": "code",
   "id": "03dd53ef-8f41-44a3-833c-ad734e5bd83c",
   "metadata": {
    "language": "python",
    "name": "cell7"
   },
   "outputs": [],
   "source": "financial_notes = \"\"\"\nNombre del cliente: Carlos Gómez  \nFecha de la evaluación: 15 de abril de 2025  \nFecha de nacimiento: 22 de julio de 1985  \n\nMotivo de consulta:  \nEvaluación trimestral de portafolio de inversión y estado crediticio.\n\nAntecedentes financieros:  \nCliente con perfil de riesgo moderado, con portafolio diversificado en fondos mutuos y renta fija. Tiene una hipoteca activa desde 2021 y dos tarjetas de crédito. Ingresos mensuales promedio: COP $12.000.000. Última revisión en enero de 2025 mostró buena liquidez, pero bajo rendimiento en portafolio internacional.\n\nDatos objetivos:  \n- Saldo portafolio total: COP $180.000.000  \n- Liquidez disponible: COP $25.000.000  \n- Score crediticio: 785 (en aumento desde 740)  \n- Tasa de endeudamiento: 32%  \n- Cumplimiento de pagos: 100% en los últimos 12 meses  \n\nEvaluación:  \nPortafolio: Estable, aunque con baja rentabilidad internacional (-2,3% TTM).  \nEndeudamiento: Controlado, sin señales de sobreapalancamiento.  \nCrédito: Buen historial, sin alertas.\n\nPlan de acción:  \n- Rebalancear portafolio: disminuir exposición en mercados internacionales, aumentar participación en bonos locales indexados a UVR.  \n- Evaluar prepago parcial de hipoteca si tasas bajan a menos de 10% E.A.  \n- Presentar oferta de tarjeta con cashback dada su alta frecuencia de consumo en comercios electrónicos.  \n- Próxima evaluación: julio de 2025, con seguimiento mensual automatizado de score crediticio y portafolio.\n\nNombre del asesor financiero: Andrés Méndez  \n\"\"\"",
   "execution_count": null
  },
  {
   "cell_type": "code",
   "id": "4d71e4f5-2dec-4b08-9a6b-ebf3fa24be31",
   "metadata": {
    "language": "python",
    "name": "cell8"
   },
   "outputs": [],
   "source": "financial_request = [\n    {\n        \"role\": \"system\",\n        \"content\": f\"\"\"\nSu objetivo es extraer información estructurada de la entrada del usuario\nque coincida con el formulario descrito a continuación.\nAl extraer la información, asegúrese de que coincida exactamente con el tipo de información esperado\ny proporcione únicamente la información extraída.\n\nExtraiga los siguientes campos:\n\n- Nombre del cliente\n- Fecha de evaluación\n- Fecha de nacimiento\n- Motivo de evaluación\n- Perfil de riesgo\n- Ingresos mensuales\n- Score crediticio\n- Endeudamiento (%)\n- Cumplimiento de pagos\n- Liquidez disponible\n- Saldo de portafolio total\n- Estado del portafolio\n- Estado del crédito\n- Observaciones\n- Recomendaciones\n- Nombre del asesor\n\"\"\"\n    },\n    {\n        \"role\": \"user\",\n        \"content\": financial_notes\n    }\n]\n",
   "execution_count": null
  },
  {
   "cell_type": "code",
   "id": "9d45efe6-43bb-466a-b446-a5884fb02adc",
   "metadata": {
    "language": "python",
    "name": "cell9"
   },
   "outputs": [],
   "source": "from snowflake.cortex import complete\n\nresponse = complete(\"llama3.1-405b\", financial_request)\n#response = complete(\"openai-gpt-5\", financial_request)\n#response = complete(\"claude-sonnet-4-5\", financial_request)\n\nresponse\n\n#json.loads(response)[\"choices\"][0][\"messages\"]",
   "execution_count": null
  },
  {
   "cell_type": "markdown",
   "id": "b3042888-ef3e-4e0c-be23-bf8c1663fe51",
   "metadata": {
    "name": "cell3",
    "collapsed": false
   },
   "source": "# Seguros"
  },
  {
   "cell_type": "code",
   "id": "7f30d014-78a4-4bfa-a52b-10cadd15fe82",
   "metadata": {
    "language": "python",
    "name": "cell10"
   },
   "outputs": [],
   "source": "insurance_notes = \"\"\"\nLaura Martínez, cliente desde 2019, \nse presentó el 10 de abril de 2025 para una revisión general de sus seguros. \nTiene 34 años, buenos ingresos (alrededor de 120 millones de pesos al año) y un perfil de riesgo bajo. \nVino interesada en saber si sus pólizas actuales cubren bien los nuevos riesgos, \nespecialmente ahora que está viajando más por trabajo.\n\nActualmente tiene tres pólizas activas: salud (plan alto sin copagos), \nvida (por 300 millones) y vehículo (cobertura amplia con un deducible de 2 millones). \nEn los últimos dos años solo ha reportado un siniestro menor por colisión, \nque fue resuelto sin complicaciones. \nSu historial médico no ha cambiado y no tiene enfermedades crónicas.\n\nDesde el punto de vista de cobertura, todo está en orden: \nlo que tiene es adecuado para su estilo de vida y no hay alertas. \nEs una cliente responsable, con uso bajo de los seguros y con alto potencial de retención.\n\nLe recomendé mantener las condiciones actuales, \nconsiderar una póliza de viajes internacionales y actualizar los beneficiarios de su póliza de vida.\nAdemás, le enviaré un resumen con beneficios y renovaciones automáticas antes de la fecha de \nvencimiento.\n\n— Catalina Ríos, asesora de seguros\n\"\"\"\n",
   "execution_count": null
  },
  {
   "cell_type": "code",
   "id": "213a28f2-c76b-4b97-9175-5c4a48605944",
   "metadata": {
    "language": "python",
    "name": "cell11"
   },
   "outputs": [],
   "source": "insurance_request = [\n    {\n        \"role\": \"system\",\n        \"content\": f\"\"\"\nSu objetivo es extraer información estructurada de la entrada del usuario\nque coincida con el formulario descrito a continuación.\nAl extraer la información, asegúrese de que coincida exactamente con el tipo de información esperado\ny proporcione únicamente la información extraída.\n\nExtraiga los siguientes campos:\n\n- Nombre del cliente\n- Fecha de evaluación\n- Fecha de nacimiento\n- Motivo de consulta\n- Pólizas activas\n- Ingresos anuales\n- Siniestros recientes\n- Score de riesgo\n- Primas anuales\n- Evaluación de cobertura\n- Estado del cliente\n- Recomendaciones\n- Nombre del asesor\n\"\"\"\n    },\n    {\n        \"role\": \"user\",\n        \"content\": insurance_notes\n    }\n]\n",
   "execution_count": null
  },
  {
   "cell_type": "code",
   "id": "5003df61-3ed5-47f8-aa06-6256499a2e0f",
   "metadata": {
    "language": "python",
    "name": "cell12"
   },
   "outputs": [],
   "source": "from snowflake.cortex import complete\n\nresponse = complete(\"llama3.1-405b\", insurance_request)\n#response = complete(\"openai-gpt-5\", insurance_request)\n#response = complete(\"claude-sonnet-4-5\", insurance_request)\n\nresponse\n\n#json.loads(response)[\"choices\"][0][\"messages\"]",
   "execution_count": null
  },
  {
   "cell_type": "markdown",
   "id": "2617fcbb-06a3-43ba-b5ae-0429f89d1a2a",
   "metadata": {
    "name": "cell6",
    "collapsed": false
   },
   "source": "# Telecomunicaciones"
  },
  {
   "cell_type": "code",
   "id": "42e7dbaa-dbe1-4531-9bae-6dc931394da6",
   "metadata": {
    "language": "python",
    "name": "cell13"
   },
   "outputs": [],
   "source": "telco_notes = \"\"\"\nNombre del cliente: Carlos Rodríguez  \nFecha del reporte: 19 de noviembre de 2024  \nUbicación: Bogotá, Colombia  \n\nMotivo del reporte:  \nSeguimiento por intermitencia en el servicio de internet residencial (FTTH).  \n\nAntecedentes del caso:  \nCliente con historial de pérdida de señal desde hace 3 meses, reportada inicialmente con una latencia promedio de 250 ms y pérdidas de paquetes del 5%. El equipo técnico realizó cambio de ONT y reemplazo de splitter el 10 de octubre. Mejoría parcial observada, pero persiste intermitencia durante picos de tráfico.  \n\nDatos objetivos:  \nVelocidad contratada: 300 Mbps  \nVelocidad promedio medida: 160 Mbps de bajada / 40 Mbps de subida  \nLatencia actual: 120 ms  \nPérdida de paquetes: 1.2%  \n\nAnálisis técnico:  \nLa intermitencia está asociada a saturación en el nodo GPON durante horarios pico (6-10 p.m.).  \nEl cliente comparte split con 31 hogares activos, superando la media ideal de 1:16.  \n\nPlan de acción:  \n- Escalar el caso al área de planificación de red para evaluar split de nodo o migración a otro puerto con menos congestión.  \n- Instalar equipo de monitoreo permanente (NPM) en domicilio del cliente durante 72 horas.  \n- Informar al cliente sobre pruebas y posibles ventanas de mantenimiento.  \n- Reevaluar métricas post intervención técnica y contactar al cliente en 7 días hábiles.  \n\nNombre del profesional: Ing. Andrea Morales  \n\"\"\"",
   "execution_count": null
  },
  {
   "cell_type": "code",
   "id": "affa88d7-d894-478e-8cbe-6e10b0c9b9c5",
   "metadata": {
    "language": "python",
    "name": "cell14"
   },
   "outputs": [],
   "source": "telco_request = [\n    {\n        \"role\": \"system\",\n        \"content\": f\"\"\"\nSu objetivo es extraer información estructurada de la entrada del usuario\nque coincida con el formulario descrito a continuación.\nAl extraer la información, asegúrese de que coincida exactamente con el tipo de información esperado\ny proporcione únicamente la información extraída.\n\nExtraiga los siguientes campos:\n\n- Nombre del cliente\n- Fecha del reporte\n- Ubicación\n- Motivo del reporte\n- Tipo de servicio\n- Historial del caso\n- Velocidad contratada\n- Velocidad medida\n- Latencia\n- Pérdida de paquetes\n- Análisis técnico\n- Plan de acción\n- Estado actual del servicio\n- Nombre del profesional\n\"\"\"\n    },\n    {\n        \"role\": \"user\",\n        \"content\": telco_notes\n    }\n]\n",
   "execution_count": null
  },
  {
   "cell_type": "code",
   "id": "58d025b7-393b-4bec-9dcd-912a4b07fe31",
   "metadata": {
    "language": "python",
    "name": "cell15"
   },
   "outputs": [],
   "source": "from snowflake.cortex import complete\n\n#response = complete(\"llama3.1-405b\", telco_request)\nresponse = complete(\"openai-gpt-5\", telco_request)\n#response = complete(\"claude-sonnet-4-5\", telco_request)\n\nresponse\n\n#json.loads(response)[\"choices\"][0][\"messages\"]",
   "execution_count": null
  }
 ]
}
