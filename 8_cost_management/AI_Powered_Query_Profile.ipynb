{
 "metadata": {
  "kernelspec": {
   "display_name": "Streamlit Notebook",
   "name": "streamlit"
  },
  "lastEditStatus": {
   "notebookId": "e3xnxwlkzbsigsuijg2h",
   "authorId": "3688510110989",
   "authorName": "MGGSNOWFLAKE2",
   "authorEmail": "mggsnowflake2@gmail.com",
   "sessionId": "4aff6dfc-6ad9-45c4-ad91-bc5a97e29267",
   "lastEditTime": 1742566847944
  }
 },
 "nbformat_minor": 5,
 "nbformat": 4,
 "cells": [
  {
   "cell_type": "markdown",
   "id": "3775908f-ca36-4846-8f38-5adca39217f2",
   "metadata": {
    "collapsed": false,
    "name": "intro"
   },
   "source": "# AI Powered Query Profile and Recommendations Notebook\nThis notebook takes query profile data from the Snowflake get_query_operator_stats function and uses Snowflake's Cortex-powered SQL functions to describe the query execution plan, identify plan bottlenecks, and propose query and workload optimizations that might result in improved performance.\n\n## Before Starting\nGo to the query history page in Snowflake, find the query you are interested in, and copy the query_id. In the rest of this notebook you will need to replace \"<query_id>\" in the \"Notebook Settings\" panel with the copied query_id from query history."
  },
  {
   "cell_type": "code",
   "execution_count": null,
   "id": "8d50cbf4-0c8d-4950-86cb-114990437ac9",
   "metadata": {
    "collapsed": false,
    "language": "sql",
    "name": "setting_panel"
   },
   "outputs": [],
   "source": [
    "-- NOTEBOOK SETTINGS PANEL\n",
    "-- Sets the query ID for your session\n",
    "\n",
    "SET query_id='paste-query-id-here';\n",
    "\n",
    "-- Sets the LLM selection for the model to use in the COMPLETE function\n",
    "\n",
    "SET cortex_llm='claude-3-5-sonnet';\n",
    "\n",
    "-- List of possible values for COMPLETE function\n",
    "-- claude-3-5-sonnet gemma-7b jamba-1.5-mini jamba-1.5-large jamba-instruct llama2-70b-chat llama3-8b llama3-70b llama3.1-8b llama3.1-70b llama3.1-405b llama3.2-1b llama3.2-3b mistral-large mistral-large2 mistral-7b mixtral-8x7b reka-core reka-flash snowflake-arctic snowflake-llama-3.1-405b snowflake-llama-3.3-70b\n",
    "\n",
    "-- See docs for regional availability: https://docs.snowflake.com/en/user-guide/snowflake-cortex/llm-functions#label-cortex-llm-availability\n"
   ]
  },
  {
   "cell_type": "code",
   "execution_count": null,
   "id": "c695373e-ac74-4b62-a1f1-08206cbd5c81",
   "metadata": {
    "collapsed": false,
    "language": "sql",
    "name": "tabular_output"
   },
   "outputs": [],
   "source": "-- TABULAR OUTPUT PANEL\n-- This panel generates the standard tabular output of get_query_operator_stats\n\nSELECT * FROM TABLE(GET_QUERY_OPERATOR_STATS('01bb18ee-0004-c37b-0004-2477003ffa7e'));"
  },
  {
   "cell_type": "code",
   "execution_count": null,
   "id": "c472c514-cd62-428d-893b-7e7733bc052a",
   "metadata": {
    "collapsed": false,
    "language": "python",
    "name": "ai_powered_profile"
   },
   "outputs": [],
   "source": "## AI POWERED PROFILE OUTPUT PANEL\n## This panel generates an AI powered description of get_query_operator_stats\n\nfrom snowflake.snowpark.context import get_active_session\nsession = get_active_session()\n\ndf = session.sql(\"\"\"\nWITH payload\n     AS (SELECT Concat('STEP:', step_id, '|OPERATOR_ID', operator_id,\n                '|OPERATOR_STATS',\n                           operator_statistics, '|OPERATOR_TIME_DETAILS',\n                           execution_time_breakdown, '|OPERATOR_TIME_ATTRIBUTES'\n                ,\n                           operator_attributes) AS operator_stats\n         FROM   TABLE (Get_query_operator_stats(\n                       '01bb18ee-0004-c37b-0004-2477003ffa7e')))\nSELECT snowflake.cortex.Complete($cortex_llm, Concat(\n'Describe in detail in spanish the query plan, time taken in each step, and operators from this snowflake query_opeartor_stats oayload: <payload>'\n, Listagg(operator_stats, ', ')\nwithin GROUP (ORDER BY operator_stats), '</payload>'))\nFROM   payload; \n\"\"\").to_pandas()\n\nprint(df.iloc[0,0])"
  },
  {
   "cell_type": "code",
   "execution_count": null,
   "id": "890c07c4-f8bb-4e4e-ba0c-6f2b3be3a8bf",
   "metadata": {
    "collapsed": false,
    "language": "python",
    "name": "ai_powered_recommendations"
   },
   "outputs": [],
   "source": "## AI POWERED RECOMMENDATIONS OUTPUT PANEL\n## This panel generates an AI powered recommendations based on the query profile\n\nfrom snowflake.snowpark.context import get_active_session\nsession = get_active_session()\n\ndf = session.sql(\"\"\"\nWITH payload\n     AS (SELECT Concat('STEP:', step_id, '|OPERATOR_ID', operator_id,\n                '|OPERATOR_STATS',\n                           operator_statistics, '|OPERATOR_TIME_DETAILS',\n                           execution_time_breakdown, '|OPERATOR_TIME_ATTRIBUTES'\n                ,\n                           operator_attributes) AS operator_stats\n         FROM   TABLE (Get_query_operator_stats(\n                       '01bb18ee-0004-c37b-0004-2477003ffa7e')))\nSELECT snowflake.cortex.Complete($cortex_llm, Concat(\n'How could I improve the performance of this query, based on the payload from this snowflake query_opeartor_stats response. Specifically, how might I use clustering, Query Acceleration Service, or Search Optimization. Also, could I rewrite the query - make sure to use Snowflake compatible SQl syntax? Describe the answer in Spanish: <payload>'\n, Listagg(operator_stats, ', ')\nwithin GROUP (ORDER BY operator_stats), '</payload>'))\nFROM   payload;\n\"\"\").to_pandas()\n\nprint(df.iloc[0,0])"
  }
 ]
}