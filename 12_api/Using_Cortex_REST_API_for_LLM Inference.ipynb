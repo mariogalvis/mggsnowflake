{
 "metadata": {
  "colab": {
   "provenance": []
  },
  "kernelspec": {
   "display_name": "Streamlit Notebook",
   "name": "streamlit"
  },
  "lastEditStatus": {
   "notebookId": "fyhdi56ll6apkwtcimfs",
   "authorId": "1645211281106",
   "authorName": "MGGSNOWFLAKE5",
   "authorEmail": "mggsnowflake5@gmail.com",
   "sessionId": "825de754-94d7-42bd-a9a6-0dd0c62d9355",
   "lastEditTime": 1760762631732
  }
 },
 "nbformat_minor": 5,
 "nbformat": 4,
 "cells": [
  {
   "cell_type": "markdown",
   "id": "f09ff9bb-f5a5-44a5-90c1-02268737acca",
   "metadata": {
    "collapsed": false,
    "id": "f09ff9bb-f5a5-44a5-90c1-02268737acca",
    "name": "title_head"
   },
   "source": [
    " #  🚀 Get started with LLM Inference using Cortex REST API\n",
    "\n",
    "Welcome! This notebook will guide you through how to use the Cortex REST API to get access to top frontier models and enterprise-grade inference.\n",
    "\n",
    "**Step 1:** Install OpenAI SDK.\n",
    "\n",
    "**Step 2:** Get your Programmatic Access Token (PAT) [here](https://app.snowflake.com/_deeplink/settings/authentication)\n",
    "\n",
    "**Step 3:** Configure the SDK by creating the client with Cortex base url and PAT.\n",
    "\n",
    "**Step 4:** Model inference, including streaming and function calling.\n",
    "\n",
    "**Step 5:** [Track your usage](https://app.snowflake.com/_deeplink/#/account/usage/consumption?usageType=compute&consumptionServiceType=WAREHOUSE_METERING&usageServiceType=allServices)\n",
    "\n",
    "For trial users: [Add your credit card for on-demand capacity](https://app.snowflake.com/_deeplink/snowflake-billing)"
   ]
  },
  {
   "cell_type": "markdown",
   "id": "f055f5ab-da12-467e-98eb-fdb4485be984",
   "metadata": {
    "collapsed": false,
    "name": "step1"
   },
   "source": "## Step 1: Install OpenAI SDK\n\nInstall the `openai` sdk from pypi:\n\n```bash\npip install openai\n```"
  },
  {
   "cell_type": "markdown",
   "id": "af9fc252-d2ef-478b-a683-faf433521d32",
   "metadata": {
    "collapsed": false,
    "id": "M93c5YDJdQXt",
    "name": "step2"
   },
   "source": [
    "## Step 2: Get your Programmatic Access Token (PAT)\n",
    "\n",
    "You can retrieve your PAT by creating a new token in the Snowsight interface [here](https://app.snowflake.com/_deeplink/settings/authentication)."
   ]
  },
  {
   "cell_type": "markdown",
   "id": "903655a3-7bfd-4a71-8196-fdd172623546",
   "metadata": {
    "collapsed": false,
    "id": "903655a3-7bfd-4a71-8196-fdd172623546",
    "name": "step3"
   },
   "source": "## Step 3: Configure the SDK\n\nNext, you will create the OpenAI client with your Snowflake account URL set as the `base_url` and the PAT you already created.\n\nYou can also retrieve the account URL using the Snowsight interface by:\n\n1. Click on your user profile in the bottom left\n2. Choose `Connect a tool to Snowflake`\n3. Copy the value for your `Account URL` and paste it in the placeholder below.\n\n```python\nfrom openai import OpenAI\n\nclient = OpenAI(\n   api_key=pat,\n   base_url=\"https://ZZFDHZJ-DUB89364.snowflakecomputing.com/api/v2/cortex/openai\"\n)\n```"
  },
  {
   "cell_type": "markdown",
   "id": "a900a904-a03a-45f5-9610-bcbd0db3c01b",
   "metadata": {
    "collapsed": false,
    "id": "a900a904-a03a-45f5-9610-bcbd0db3c01b",
    "name": "step4"
   },
   "source": [
    "## Step 4: Model inference\n",
    "\n",
    "Check out [the list of Cortex supported models](https://docs.snowflake.com/user-guide/snowflake-cortex/aisql#regional-availability).\n",
    "\n",
    "Replace `claude-sonnet-4-5` with the name of the model you want to use.\n",
    "\n",
    "```python\n",
    "response = client.chat.completions.create(\n",
    "    model=\"claude-sonnet-4-5\",\n",
    "    messages=[\n",
    "        {\"role\": \"system\", \"content\": \"You are a helpful assistant.\"},\n",
    "        {\n",
    "            \"role\": \"user\",\n",
    "            \"content\": \"How does a snowflake get its unique pattern?\"\n",
    "        }\n",
    "    ]\n",
    ")\n",
    "\n",
    "print(response.choices[0].message)\n",
    "```"
   ]
  },
  {
   "cell_type": "markdown",
   "id": "18fe4730-721b-436e-ad31-e67d11f62934",
   "metadata": {
    "collapsed": false,
    "id": "18fe4730-721b-436e-ad31-e67d11f62934",
    "name": "streaming"
   },
   "source": [
    "## Streaming responses\n",
    "\n",
    "The Cortex AI endpoint also supports streaming responses for any supported model.\n",
    "\n",
    "```python\n",
    "stream = client.chat.completions.create(\n",
    "    model=\"claude-sonnet-4-5\",\n",
    "    messages=[\n",
    "        {\"role\": \"system\", \"content\": \"You are a helpful assistant.\"},\n",
    "        {\n",
    "            \"role\": \"user\",\n",
    "            \"content\": \"How does a snowflake get its unique pattern?\"\n",
    "        }\n",
    "    ],\n",
    "    stream = True\n",
    ")\n",
    "\n",
    "for chunk in stream:\n",
    "    if chunk.choices[0].delta.content is not None:\n",
    "        print(chunk.choices[0].delta.content, end=\"\")\n",
    "```"
   ]
  },
  {
   "cell_type": "markdown",
   "id": "df09d1d0-5a63-429f-87bc-45507ee5aeaa",
   "metadata": {
    "collapsed": false,
    "id": "df09d1d0-5a63-429f-87bc-45507ee5aeaa",
    "name": "function_calling"
   },
   "source": [
    "## Function calling\n",
    "\n",
    "Cortex AI also supports function calling. In this example, we show how to use function calling with a `get_weather` function.\n",
    "\n",
    "```python\n",
    "tools = [{\n",
    "    \"type\": \"function\",\n",
    "    \"function\": {\n",
    "        \"name\": \"get_weather\",\n",
    "        \"description\": \"Get current temperature for a given location.\",\n",
    "        \"parameters\": {\n",
    "            \"type\": \"object\",\n",
    "            \"properties\": {\n",
    "                \"location\": {\n",
    "                    \"type\": \"string\",\n",
    "                    \"description\": \"City and country e.g. Bogotá, Colombia\"\n",
    "                }\n",
    "            },\n",
    "            \"required\": [\n",
    "                \"location\"\n",
    "            ],\n",
    "            \"additionalProperties\": False\n",
    "        },\n",
    "        \"strict\": True\n",
    "    }\n",
    "}]\n",
    "\n",
    "completion = client.chat.completions.create(\n",
    "    model=\"claude-sonnet-4-5\",\n",
    "    messages=[{\"role\": \"user\", \"content\": \"What is the weather like in Paris today?\"}],\n",
    "    tools=tools\n",
    ")\n",
    "\n",
    "print(completion.choices[0].message.tool_calls)\n",
    "```"
   ]
  },
  {
   "cell_type": "markdown",
   "id": "c9806342-be89-4cb0-85ef-042e1cbd1985",
   "metadata": {
    "id": "1QjZaR29dv0-",
    "name": "conclusion",
    "collapsed": false
   },
   "source": [
    "## Get more from your data with AI\n",
    "\n",
    "*   Go beyond inference and **[build with Cortex Agents](https://quickstarts.snowflake.com/guide/getting_started_with_cortex_agents/index.html#0)** to query across structured data (like metrics and KPIs) and unstructured data (such as customer conversations and meeting transcripts).\n",
    "*  **[Try more templates](https://app.snowflake.com/templates)** to quickly explore guided Worksheets, Notebooks & Streamlit apps — no setup required.\n",
    "*   Join the **[Snowflake Marketplace](https://www.snowflake.com/en/product/features/marketplace/)** to access to more than 12,000 potential customers to unlock new monetization opportunities.\n",
    "\n"
   ]
  },
  {
   "cell_type": "markdown",
   "id": "bdf46ae4-ac87-4fc8-8c6a-be4a01144d18",
   "metadata": {
    "name": "cell1",
    "collapsed": false
   },
   "source": "Perfecto, Mario 💪\nAquí tienes **solo el paso a paso que funcionó**, limpio y en orden:\n\n---\n\n### ✅ **Configuración y conexión**\n\n1️⃣ **Lanzar una EC2** (Amazon Linux)\n\n* Activa **Auto-assign public IPv4**\n* Asocia una **Key Pair (.pem)**\n* Guarda el `.pem` en tu Mac.\n\n2️⃣ **Mover y asegurar la llave**\n\n```bash\nmv ~/Downloads/mggkeypair.pem ~/.ssh/\nchmod 400 ~/.ssh/mggkeypair.pem\n```\n\n3️⃣ **Conectarte desde el Mac a la EC2**\n\n```bash\nssh -i ~/.ssh/mggkeypair.pem ec2-user@<EC2_IP>\n```\n\n4️⃣ **Obtener tu IP pública**\n\n```bash\ncurl -4 ifconfig.me\n```\n\n---\n\n### ✅ **Configurar Snowflake**\n\n5️⃣ **Crear la Network Policy (Snowsight)**\n\n```sql\nCREATE OR REPLACE NETWORK POLICY CORTEX_SDK_POLICY\n  ALLOWED_IP_LIST = ('<TU_IP_LOCAL>/32', '<EC2_IP>/32')\n  BLOCKED_IP_LIST = ();\nALTER ACCOUNT SET NETWORK_POLICY = CORTEX_SDK_POLICY;\n```\n\n*(Reinicia sesión en Snowsight)*\n\n---\n\n### ✅ **Subir el script**\n\n6️⃣ **Copiar tu archivo Python a la EC2**\n\n```bash\nscp -i ~/.ssh/mggkeypair.pem /Users/mariogalvis/Documents/mggsnowflake/API/mgg.py ec2-user@<EC2_IP>:/home/ec2-user/\n```\n\n---\n\n### ✅ **Instalar dependencias en EC2**\n\n7️⃣\n\n```bash\npip install openai\n```\n\n---\n\n### ✅ **Ejecutar el script de prueba**\n\n8️⃣ **Archivo `mgg.py`:**\n\n```python\nfrom openai import OpenAI\n\nclient = OpenAI(\n    api_key=\"TU_PAT_SNOWFLAKE\",\n    base_url=\"https://ZZFDHZJ-DUB89364.snowflakecomputing.com/api/v2/cortex/openai\"\n)\n\nresp = client.chat.completions.create(\n    model=\"claude-sonnet-4-5\",\n    messages=[\n        {\"role\": \"user\", \"content\": \"How does a snowflake get its unique pattern?\"}\n    ]\n)\n\nprint(resp.choices[0].message.content)\n```\n\n9️⃣ **Correrlo**\n\n```bash\npython3 mgg.py\n```\n\n---\n\n### ✅ **Crear API con FastAPI**\n\n🔹 Instalar dependencias:\n\n```bash\npip install fastapi uvicorn openai\n```\n\n🔹 Crear `app.py`:\n\n```python\nfrom fastapi import FastAPI, Request\nfrom openai import OpenAI\n\napp = FastAPI()\n\nclient = OpenAI(\n    api_key=\"TU_PAT_SNOWFLAKE\",\n    base_url=\"https://ZZFDHZJ-DUB89364.snowflakecomputing.com/api/v2/cortex/openai\"\n)\n\n@app.post(\"/ask\")\nasync def ask(request: Request):\n    data = await request.json()\n    prompt = data.get(\"prompt\", \"\")\n    response = client.chat.completions.create(\n        model=\"claude-sonnet-4-5\",\n        messages=[{\"role\":\"user\",\"content\":prompt}]\n    )\n    return {\"answer\": response.choices[0].message.content}\n```\n\n🔹 Ejecutar el server:\n\n```bash\nuvicorn app:app --host 0.0.0.0 --port 8000\n```\n\n---\n\n### ✅ **Abrir el puerto**\n\n🔹 En AWS Console → **EC2 → Security Groups → Inbound rules**\nAgrega:\n\n* Type: **Custom TCP**\n* Port: **8000**\n* Source: **My IP**\n\n---\n\n### ✅ **Probar la API desde tu Mac**\n\n```bash\ncurl -X POST http://<EC2_IP>:8000/ask \\\n     -H \"Content-Type: application/json\" \\\n     -d '{\"prompt\":\"Qué son las dynamic tables en Snowflake?\"}'\n```\n\n---\n\n### ✅ **Opcional**\n\n* Detener server:\n\n  ```bash\n  sudo pkill -f uvicorn\n  ```\n* Apagar la instancia en AWS:\n  EC2 → Instances → **Stop instance**\n\n---\n\n💥 Y listo.\nEso fue el flujo completo que funcionó de punta a punta:\n**Mac → EC2 → Snowflake Cortex → FastAPI → Cliente (curl / VSCode).**\n\n"
  }
 ]
}