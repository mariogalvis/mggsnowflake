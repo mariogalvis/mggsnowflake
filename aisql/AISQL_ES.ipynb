{
 "metadata": {
  "kernelspec": {
   "display_name": "Streamlit Notebook",
   "name": "streamlit"
  },
  "lastEditStatus": {
   "notebookId": "673noexn2o4l2nejwj4w",
   "authorId": "2233841567550",
   "authorName": "MGGSNOWFLAKE2",
   "authorEmail": "mggsnowflake2@gmail.com",
   "sessionId": "02b6c5f5-e73a-4438-8a00-a66892a9c389",
   "lastEditTime": 1750904260463
  }
 },
 "nbformat_minor": 5,
 "nbformat": 4,
 "cells": [
  {
   "cell_type": "markdown",
   "id": "3775908f-ca36-4846-8f38-5adca39217f2",
   "metadata": {
    "collapsed": false,
    "name": "Cortex_AISQL"
   },
   "source": "# Cortex AISQL: Reinventando SQL como lenguaje de consulta de IA para datos multimodales"
  },
  {
   "cell_type": "code",
   "id": "c1c34f77-f4df-46ec-97c2-cf478541730d",
   "metadata": {
    "language": "sql",
    "name": "Validar_emails"
   },
   "outputs": [],
   "source": "-- Image Files table\ncreate or replace table IMAGES as\nselect to_file(file_url) img_file, \n    DATEADD(SECOND, UNIFORM(0, 13046400, RANDOM()),\n    TO_TIMESTAMP('2025-01-01 00:00:00')) as created_at,\n    UNIFORM(0, 200, RANDOM()) as user_id,\n    * from directory(@AISQL_DB.AISQL_SCHEMA.AISQL_IMAGE_FILES);\n    \nselect user_id, ticket_id, created_at, SNOWFLAKE.CORTEX.TRANSLATE(content, 'en', 'es') from emails limit 10;",
   "execution_count": null
  },
  {
   "cell_type": "code",
   "execution_count": null,
   "id": "8d50cbf4-0c8d-4950-86cb-114990437ac9",
   "metadata": {
    "codeCollapsed": false,
    "collapsed": false,
    "language": "python",
    "name": "Import_Libraries"
   },
   "outputs": [],
   "source": "import streamlit as st\nimport pandas as pd\nimport altair as alt\nimport snowbooks_extras\nfrom snowflake.snowpark.context import get_active_session\n\nsession = get_active_session()"
  },
  {
   "cell_type": "markdown",
   "id": "c695373e-ac74-4b62-a1f1-08206cbd5c81",
   "metadata": {
    "collapsed": false,
    "name": "Consolidate_Data"
   },
   "source": "## Identificación de problemas de clientes en formatos de texto e imagen\n\n* Texto: Correos de soporte\n* Imágenes: Informes de errores\n\nUso de los mismos operadores SQL, compatibilidad con todas las modalidades\n\n*Función utilizada: AI_COMPLETE()*"
  },
  {
   "cell_type": "code",
   "execution_count": null,
   "id": "a96d6ed7-5803-44ba-b117-146d14c42c49",
   "metadata": {
    "language": "sql",
    "name": "AI_COMPLETE"
   },
   "outputs": [],
   "source": "create table if not exists insights as\nwith IMAGE_INSIGHTS as (\n    select created_at,user_id,relative_path as ticket_id,img_file as input_file,file_url as input_file_url,\n        AI_COMPLETE('pixtral-large', prompt('Resume el problema que se muestra en esta captura de pantalla en una oración concisa: {0}', img_file)) as summary, summary as content\n    from images\n    ),\n    EMAIL_INSIGHTS as (\n    select created_at,user_id,ticket_id::text as ticket_id,null as input_file,'' as input_file_url,content as content,\n        AI_COMPLETE('claude-3-7-sonnet', prompt('Resume este problema en una frase concisa.\nSi el usuario mencionó algo relacionado con sus preferencias musicales, conserva esa información: {0}', content)) as summary\n    from emails\n    )\nselect 'Image' as source, created_at, user_id, ticket_id, input_file, input_file_url, content, summary \nfrom IMAGE_INSIGHTS\n    union\nselect 'Email' as source, created_at, user_id, ticket_id, input_file, input_file_url, content, summary \nfrom EMAIL_INSIGHTS;"
  },
  {
   "cell_type": "markdown",
   "id": "6f68e60c-2036-43ac-b3d0-f2c143d1b573",
   "metadata": {
    "collapsed": false,
    "name": "Consolidated_Data"
   },
   "source": "## Datos consolidados en formatos de texto, imagen y audio\n\nTipo de dato nativo FILE para consolidar todos los formatos en una sola tabla"
  },
  {
   "cell_type": "code",
   "execution_count": null,
   "id": "e69ddeca-5bfe-4eb6-973a-fff908ee6b1a",
   "metadata": {
    "language": "sql",
    "name": "Preview_Data"
   },
   "outputs": [],
   "source": "select \n    user_id, source, input_file, summary, SNOWFLAKE.CORTEX.TRANSLATE(content, 'en', 'es'), input_file_url \nfrom insights\norder by input_file_url desc;"
  },
  {
   "cell_type": "markdown",
   "id": "2abffa8c-02c3-4d18-8f56-e68deee54a54",
   "metadata": {
    "collapsed": false,
    "name": "SC_Articles"
   },
   "source": [
    "## Semantically JOIN Issues with Solutions Library\n",
    "\n",
    "Efficiently \"JOIN\" customer issues with existing solutions upon an AI relationship\n",
    "\n",
    "*Function used: ... JOIN ... ON AI_FILTER()*"
   ]
  },
  {
   "cell_type": "code",
   "execution_count": null,
   "id": "ea2f1921-2baa-4c9f-9f9a-6f4b6754c77d",
   "metadata": {
    "language": "sql",
    "name": "AI_FILTER"
   },
   "outputs": [],
   "source": "select \n    SNOWFLAKE.CORTEX.TRANSLATE(c.content, 'en', 'es') as \"PROBLEMA DEL CLIENTE\",\n    SNOWFLAKE.CORTEX.TRANSLATE(s.solution, 'en', 'es') as \"SOLUCION\",\n    c.created_at,\nfrom\n    INSIGHTS c\nleft join\n    SOLUTION_CENTER_ARTICLES s\non AI_FILTER(prompt('Se le proporciona un problema de cliente y un artículo del centro de soluciones. Compruebe si el artículo de solución puede abordar las inquietudes del cliente. Le recordamos que debe comprobar si los detalles del error coinciden. Customer issues: {0}; \\n\\nSolution: {1}', content, s.solution))\norder by created_at asc;"
  },
  {
   "cell_type": "markdown",
   "id": "465155ef-a79a-4b9b-8f00-c2a04a25cf68",
   "metadata": {
    "collapsed": false,
    "name": "Aggregate"
   },
   "source": [
    "## Aggregate Top Pain Points By Month\n",
    "\n",
    "Get aggregated insights across multiple rows\n",
    "\n",
    "*Function used: AI_AGG()*"
   ]
  },
  {
   "cell_type": "code",
   "execution_count": null,
   "id": "064f58f0-1d74-4af7-9246-19d263c2ed68",
   "metadata": {
    "language": "python",
    "name": "AI_AGG"
   },
   "outputs": [],
   "source": "AGGREGATE_PROMPT = \"\"\"\nAnalice todas las revisiones de los tickets de soporte y proporcione una lista completa de todos los problemas mencionados.\nFormatee su respuesta como una lista con viñetas de problemas, con su frecuencia aproximada en porcentaje.\n\"\"\"\n\nsql = f\"\"\"\nselect \n    monthname(created_at) as month, \n    count(*) as total_tickets,\n    count(distinct user_id) as unique_users,\n    AI_AGG(summary,'{AGGREGATE_PROMPT}') as top_issues_reported,\n    from (select * from insights order by random() limit 200)\n    group by month\n    order by total_tickets desc,month desc\n\"\"\"\n\ndf = session.sql(sql).to_pandas()\nrows_to_display = 1\nfor row in df[:rows_to_display].itertuples():\n    st.subheader(f\"Información agregada para {row.MONTH}\")\n    st.metric(\"Total de entradas\",row.TOTAL_TICKETS)\n    st.metric(\"Usuarios únicos\", row.UNIQUE_USERS)\n    st.subheader(\"Problemas principales\")\n    st.markdown(row.TOP_ISSUES_REPORTED)\n    st.divider()\n\ndf_long = df.melt(id_vars='MONTH', value_vars=['TOTAL_TICKETS', 'UNIQUE_USERS'],\n                  var_name='Metric', value_name='Total')\n\nchart = alt.Chart(df_long).mark_bar().encode(\n    y=alt.Y('MONTH:N', sort='-x'),\n    x=alt.X('Total:Q'),\n    color=alt.Color('Metric:N', scale=alt.Scale(scheme='tableau10')),\n    tooltip=['MONTH', 'Metric', 'Total']\n).properties(height=300)\n\nst.altair_chart(chart, use_container_width=True)"
  },
  {
   "cell_type": "markdown",
   "id": "69e0f9ac-78de-4e3e-a34e-16f889249079",
   "metadata": {
    "collapsed": false,
    "name": "Classify"
   },
   "source": [
    "## Classification\n",
    "\n",
    "Build classification of labels that can be used in downstream applications. For example, to train ML models.\n",
    "\n",
    "*Function used: AI_CLASSIFY()*"
   ]
  },
  {
   "cell_type": "code",
   "execution_count": null,
   "id": "a35f424e-d4b2-4c04-87c0-9b4217af7a47",
   "metadata": {
    "language": "sql",
    "name": "AI_CLASSIFY"
   },
   "outputs": [],
   "source": "SET FILTER_PROMPT = '\nEstoy intentando averiguar si el cliente mencionó alguna preferencia de género musical en su comentario.\n¿Este comentario menciona alguna preferencia de género musical específica del cliente?: {0}';\n\nSET CLASSIFY_PROMPT = 'Por favor ayúdenme a clasificar la preferencia musical mencionada en este comentario: ';\nSET MUSIC_GENRES = 'Electronic/Dance Music (EDM), Jazz, Indie/Folk, Rock, Classical, World Music, Blues, Pop';\n\ncreate table if not exists filtered as \nselect * from \n        (select * from insights order by random() limit 500)\n    where AI_FILTER(prompt($FILTER_PROMPT, summary));\n\nselect \n    source, \n    SNOWFLAKE.CORTEX.TRANSLATE(summary, 'en', 'es'),\n    AI_CLASSIFY($CLASSIFY_PROMPT || summary,SPLIT($MUSIC_GENRES, ','))['labels'][0] as classified_label\nfrom filtered;"
  },
  {
   "cell_type": "code",
   "execution_count": null,
   "id": "0ec19e23-c505-4d02-aee0-ae832eeca0b5",
   "metadata": {
    "language": "python",
    "name": "Classify_Chart"
   },
   "outputs": [],
   "source": "df = AI_CLASSIFY.to_pandas()\n\n# Group by genre and calculate counts\ngenre_counts = df['CLASSIFIED_LABEL'].value_counts().reset_index()\ngenre_counts.columns = ['Genre', 'Count']\n\n# Pie chart using Altair\nchart = alt.Chart(genre_counts).mark_arc().encode(\n    theta=alt.Theta(field='Count', type='quantitative'),\n    color=alt.Color(field='Genre', type='nominal'),\n    tooltip=['Genre', 'Count']\n).properties(\n    width=500,\n    height=400\n)\n\nst.subheader('Distribución de géneros')\nst.altair_chart(chart, use_container_width=True)"
  }
 ]
}