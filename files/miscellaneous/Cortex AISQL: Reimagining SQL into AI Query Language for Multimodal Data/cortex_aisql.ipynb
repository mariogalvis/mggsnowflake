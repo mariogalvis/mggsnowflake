{
 "metadata": {
  "kernelspec": {
   "display_name": "Streamlit Notebook",
   "name": "streamlit"
  },
  "lastEditStatus": {
   "notebookId": "v7zkdjvkka2xgf5jvqzr",
   "authorId": "51208522045",
   "authorName": "DASH",
   "authorEmail": "dash.desai@snowflake.com",
   "sessionId": "4a12661d-ff93-4815-957c-b9219fd04e52",
   "lastEditTime": 1749138866196
  }
 },
 "nbformat_minor": 5,
 "nbformat": 4,
 "cells": [
  {
   "cell_type": "markdown",
   "id": "3775908f-ca36-4846-8f38-5adca39217f2",
   "metadata": {
    "collapsed": false,
    "name": "Cortex_AISQL"
   },
   "source": [
    "# Cortex AISQL: Reimagining SQL into AI Query Language for Multimodal Data\n"
   ]
  },
  {
   "cell_type": "code",
   "execution_count": null,
   "id": "8d50cbf4-0c8d-4950-86cb-114990437ac9",
   "metadata": {
    "codeCollapsed": false,
    "collapsed": false,
    "language": "python",
    "name": "Import_Libraries"
   },
   "outputs": [],
   "source": "import streamlit as st\nimport pandas as pd\nimport altair as alt\nfrom snowflake.snowpark.context import get_active_session\n\nsession = get_active_session()"
  },
  {
   "cell_type": "markdown",
   "id": "c695373e-ac74-4b62-a1f1-08206cbd5c81",
   "metadata": {
    "collapsed": false,
    "name": "Consolidate_Data"
   },
   "source": "## Identify Customer Issues Across Text and Image Data Formats\n\n* Text: Support Emails \n* Images: Bug Reports\n\nUsing same SQL operators, seamlessly working across all modalities\n\n*Function used: AI_COMPLETE()*"
  },
  {
   "cell_type": "code",
   "execution_count": null,
   "id": "a96d6ed7-5803-44ba-b117-146d14c42c49",
   "metadata": {
    "language": "sql",
    "name": "AI_COMPLETE"
   },
   "outputs": [],
   "source": "create table if not exists insights as\nwith IMAGE_INSIGHTS as (\n    select created_at,user_id,relative_path as ticket_id,img_file as input_file,file_url as input_file_url,\n        AI_COMPLETE('pixtral-large', prompt('Summarize this issue shown in this screenshot in one concise sentence: {0}', img_file)) as summary, summary as content\n    from images\n    ),\n    EMAIL_INSIGHTS as (\n    select created_at,user_id,ticket_id::text as ticket_id,null as input_file,'' as input_file_url,content as content,\n        AI_COMPLETE('claude-3-7-sonnet', prompt('Summarize this issue in one concise sentence. \nIf the user mentioned anything related to music preference, please keep that information: {0}', content)) as summary\n    from emails\n    )\nselect 'Image' as source, created_at, user_id, ticket_id, input_file, input_file_url, content, summary \nfrom IMAGE_INSIGHTS\n    union\nselect 'Email' as source, created_at, user_id, ticket_id, input_file, input_file_url, content, summary \nfrom EMAIL_INSIGHTS;"
  },
  {
   "cell_type": "markdown",
   "id": "6f68e60c-2036-43ac-b3d0-f2c143d1b573",
   "metadata": {
    "collapsed": false,
    "name": "Consolidated_Data"
   },
   "source": [
    "## Consolidated Data Across Text, Image, and Audio Data Formats\n",
    "\n",
    "Native FILE datatype to allow consolidating all formats into one table"
   ]
  },
  {
   "cell_type": "code",
   "execution_count": null,
   "id": "e69ddeca-5bfe-4eb6-973a-fff908ee6b1a",
   "metadata": {
    "language": "sql",
    "name": "Preview_Data"
   },
   "outputs": [],
   "source": [
    "select \n",
    "    user_id, source, input_file, summary, content, input_file_url \n",
    "from insights\n",
    "order by input_file_url desc;"
   ]
  },
  {
   "cell_type": "markdown",
   "id": "2abffa8c-02c3-4d18-8f56-e68deee54a54",
   "metadata": {
    "collapsed": false,
    "name": "SC_Articles"
   },
   "source": [
    "## Semantically JOIN Issues with Solutions Library\n",
    "\n",
    "Efficiently \"JOIN\" customer issues with existing solutions upon an AI relationship\n",
    "\n",
    "*Function used: ... JOIN ... ON AI_FILTER()*"
   ]
  },
  {
   "cell_type": "code",
   "execution_count": null,
   "id": "ea2f1921-2baa-4c9f-9f9a-6f4b6754c77d",
   "metadata": {
    "language": "sql",
    "name": "AI_FILTER"
   },
   "outputs": [],
   "source": "select \n    c.content as \"CUSTOMER ISSUE\",\n    s.solution,\n    c.created_at,\nfrom\n    INSIGHTS c\nleft join\n    SOLUTION_CENTER_ARTICLES s\non AI_FILTER(prompt('You are provided a customer issue and a solution center article. Please check if the solution article can address customer concerns. Reminder to check if the error details are matching. Customer issues: {0}; \\n\\nSolution: {1}', content, s.solution))\norder by created_at asc;"
  },
  {
   "cell_type": "markdown",
   "id": "465155ef-a79a-4b9b-8f00-c2a04a25cf68",
   "metadata": {
    "collapsed": false,
    "name": "Aggregate"
   },
   "source": [
    "## Aggregate Top Pain Points By Month\n",
    "\n",
    "Get aggregated insights across multiple rows\n",
    "\n",
    "*Function used: AI_AGG()*"
   ]
  },
  {
   "cell_type": "code",
   "execution_count": null,
   "id": "064f58f0-1d74-4af7-9246-19d263c2ed68",
   "metadata": {
    "language": "python",
    "name": "AI_AGG"
   },
   "outputs": [],
   "source": "AGGREGATE_PROMPT = \"\"\"\nAnalyze all the support ticket reviews and provide a comprehensive list of all issues mentioned. \nFormat your response as a bulleted list of issues with their approximate frequency in percentage.\n\"\"\"\n\nsql = f\"\"\"\nselect \n    monthname(created_at) as month, \n    count(*) as total_tickets,\n    count(distinct user_id) as unique_users,\n    AI_AGG(summary,'{AGGREGATE_PROMPT}') as top_issues_reported,\n    from (select * from insights order by random() limit 200)\n    group by month\n    order by total_tickets desc,month desc\n\"\"\"\n\ndf = session.sql(sql).to_pandas()\nrows_to_display = 1\nfor row in df[:rows_to_display].itertuples():\n    st.subheader(f\"Aggregated Insights for {row.MONTH}\")\n    st.metric(\"Total Tickets\",row.TOTAL_TICKETS)\n    st.metric(\"Unique Users\", row.UNIQUE_USERS)\n    st.subheader(\"Top Issues\")\n    st.markdown(row.TOP_ISSUES_REPORTED)\n    st.divider()\n\ndf_long = df.melt(id_vars='MONTH', value_vars=['TOTAL_TICKETS', 'UNIQUE_USERS'],\n                  var_name='Metric', value_name='Total')\n\nchart = alt.Chart(df_long).mark_bar().encode(\n    y=alt.Y('MONTH:N', sort='-x'),\n    x=alt.X('Total:Q'),\n    color=alt.Color('Metric:N', scale=alt.Scale(scheme='tableau10')),\n    tooltip=['MONTH', 'Metric', 'Total']\n).properties(height=300)\n\nst.altair_chart(chart, use_container_width=True)"
  },
  {
   "cell_type": "markdown",
   "id": "69e0f9ac-78de-4e3e-a34e-16f889249079",
   "metadata": {
    "collapsed": false,
    "name": "Classify"
   },
   "source": [
    "## Classification\n",
    "\n",
    "Build classification of labels that can be used in downstream applications. For example, to train ML models.\n",
    "\n",
    "*Function used: AI_CLASSIFY()*"
   ]
  },
  {
   "cell_type": "code",
   "execution_count": null,
   "id": "a35f424e-d4b2-4c04-87c0-9b4217af7a47",
   "metadata": {
    "language": "sql",
    "name": "AI_CLASSIFY"
   },
   "outputs": [],
   "source": "SET FILTER_PROMPT = '\nI am trying to find if the customer has mentioned any music genre perference in their comment. \nDoes this comment mentioning specific music genre preference from the customer?: {0}';\n\nSET CLASSIFY_PROMPT = 'Please help me classify the music preference mentioned in this comment: ';\nSET MUSIC_GENRES = 'Electronic/Dance Music (EDM), Jazz, Indie/Folk, Rock, Classical, World Music, Blues, Pop';\n\ncreate table if not exists filtered as \nselect * from \n        (select * from insights order by random() limit 500)\n    where AI_FILTER(prompt($FILTER_PROMPT, summary));\n\nselect \n    source, \n    summary,\n    AI_CLASSIFY($CLASSIFY_PROMPT || summary,SPLIT($MUSIC_GENRES, ','))['labels'][0] as classified_label\nfrom filtered;"
  },
  {
   "cell_type": "code",
   "execution_count": null,
   "id": "0ec19e23-c505-4d02-aee0-ae832eeca0b5",
   "metadata": {
    "language": "python",
    "name": "Classify_Chart"
   },
   "outputs": [],
   "source": "df = AI_CLASSIFY.to_pandas()\n\n# Group by genre and calculate counts\ngenre_counts = df['CLASSIFIED_LABEL'].value_counts().reset_index()\ngenre_counts.columns = ['Genre', 'Count']\n\n# Pie chart using Altair\nchart = alt.Chart(genre_counts).mark_arc().encode(\n    theta=alt.Theta(field='Count', type='quantitative'),\n    color=alt.Color(field='Genre', type='nominal'),\n    tooltip=['Genre', 'Count']\n).properties(\n    width=500,\n    height=400\n)\n\nst.subheader('Distribution of Genres')\nst.altair_chart(chart, use_container_width=True)"
  }
 ]
}